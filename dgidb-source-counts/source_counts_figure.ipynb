{
 "cells": [
  {
   "cell_type": "code",
   "execution_count": 2,
   "id": "cddab96c-95ad-4ed1-a6c4-d63d4bcd2bc6",
   "metadata": {},
   "outputs": [],
   "source": [
    "import psycopg\n",
    "\n",
    "conn_v5 = psycopg.connect(\"postgresql://postgres@localhost:5432/dgidb\")\n",
    "conn_v4 = psycopg.connect(\"postgresql://postgres@localhost:5432/dgidb_v4\")"
   ]
  },
  {
   "cell_type": "code",
   "execution_count": 3,
   "id": "c3f91959-e6bc-4760-ae4b-30f0513a4a10",
   "metadata": {},
   "outputs": [],
   "source": [
    "import pandas as pd"
   ]
  },
  {
   "cell_type": "markdown",
   "id": "2fb22140-54bb-470c-8e24-f2efa8acdc68",
   "metadata": {},
   "source": [
    "### visual stuff"
   ]
  },
  {
   "cell_type": "code",
   "execution_count": 4,
   "id": "65d4110b-1f10-41e0-bbcf-fa1e26e57251",
   "metadata": {},
   "outputs": [],
   "source": [
    "NEW_SOURCE_COLOR = \"#fa198b\"\n",
    "EXISTING_SOURCE_COLOR = \"#480a77\"\n",
    "UPDATED_SOURCE_COLOR = \"#8075ff\""
   ]
  },
  {
   "cell_type": "markdown",
   "id": "6f4b77a4-5e4b-4048-84b5-f91e49e399da",
   "metadata": {},
   "source": [
    "### counts to get\n",
    "\n",
    "* interactions\n",
    "* gene claims\n",
    "* drug claims\n",
    "* gene categories"
   ]
  },
  {
   "cell_type": "code",
   "execution_count": 5,
   "id": "9302f1ed-ede9-4c29-9d7f-629d93bd259a",
   "metadata": {
    "jupyter": {
     "source_hidden": true
    }
   },
   "outputs": [],
   "source": [
    "UPDATE_SOURCE_NAMES =[\n",
    "    \"CIViC\",\n",
    "    \"DrugBank\",\n",
    "    \"ChEMBL\",\n",
    "    \"GtoPdb\",\n",
    "    \"PharmGKB\",\n",
    "    \"Wikidata\",\n",
    "]\n",
    "\n",
    "NEW_SOURCE_NAMES = [\n",
    "    \"ChemIDplus\",\n",
    "    \"Drugs@FDA\",\n",
    "    \"HemOnc.org\",\n",
    "    \"NCIt\",\n",
    "    \"RXNorm\",\n",
    "    \"HGNC\",\n",
    "]\n",
    "\n",
    "SHORT_SOURCE_NAMES = {\n",
    "    \"BaderLab\": \"BaderLab\",\n",
    "    \"CGI\": \"CGI\",\n",
    "    \"CIViC\": \"CIViC\",\n",
    "    \"COSMIC\": \"COSMIC\",\n",
    "    \"CancerCommons\": \"CancerCommons\",\n",
    "    \"CarisMolecularIntelligence\": \"CMI\",\n",
    "    \"ChEMBL\": \"ChEMBL\",\n",
    "    \"ChemIDplus\": \"ChemIDplus\",\n",
    "    \"ClearityFoundationBiomarkers\": \"CF: Biomarkers\",\n",
    "    \"ClearityFoundationClinicalTrial\": \"CF: Clinical Trials\",\n",
    "    \"DTC\": \"DTC\",\n",
    "    \"DoCM\": \"DoCM\",\n",
    "    \"DrugBank\": \"DrugBank\",\n",
    "    \"Drugs@FDA\": \"Drugs@FDA\",\n",
    "    \"Ensembl\": \"Ensembl\",\n",
    "    \"FDA\": \"FDA\",\n",
    "    \"HemOnc\": \"HemOnc.org\",\n",
    "    \"FoundationOneGenes\": \"FO: Genes\",\n",
    "    \"GO\": \"GO\",\n",
    "    \"GuideToPharmacology\": \"GtoPdb\",\n",
    "    \"HGNC\": \"HGNC\",\n",
    "    \"HingoraniCasas\": \"Hingorani/Casas\",\n",
    "    \"HopkinsGroom\": \"Hopkins/Groom\",\n",
    "    \"HumanProteinAtlas\": \"Human Protein Atlas\",\n",
    "    \"IDG\": \"IDG\",\n",
    "    \"JAX-CKB\": \"JAX-CKB\",\n",
    "    \"MskImpact\": \"MSK Impact\",\n",
    "    \"MyCancerGenome\": \"MCG\",\n",
    "    \"MyCancerGenomeClinicalTrial\": \"MCG: Clinical Trials\",\n",
    "    \"NCBI\": \"NCBI Gene\",\n",
    "    \"NCI\": \"NCI\",\n",
    "    \"NCIt\": \"NCIt\",\n",
    "    \"OncoKB\": \"OncoKB\",\n",
    "    \"Oncomine\": \"Oncomine\",\n",
    "    \"PharmGKB\": \"PharmGKB\",\n",
    "    \"Pharos\": \"Pharos\",\n",
    "    \"RxNorm\": \"RxNorm\",\n",
    "    \"RussLampel\": \"Russ/Lampel\",\n",
    "    \"TALC\": \"TALC\",\n",
    "    \"TEND\": \"TEND\",\n",
    "    \"TTD\": \"TTD\",\n",
    "    \"TdgClinicalTrial\": \"TDG: Clinical Trials\",\n",
    "    \"Tempus\": \"Tempus\",\n",
    "    \"dGene\": \"dGene\",\n",
    "    \"Wikidata\": \"Wikidata\"\n",
    "}"
   ]
  },
  {
   "cell_type": "code",
   "execution_count": 6,
   "id": "fc737617-06bc-46d4-b939-c34085024e29",
   "metadata": {},
   "outputs": [],
   "source": [
    "def make_dataframe(v5_counts, v4_counts):\n",
    "    counts = pd.concat([pd.Series(v5_counts), pd.Series(v4_counts)], axis=1)\n",
    "    counts = counts.fillna(0.0).astype(int)\n",
    "    counts.columns = [\"v5\", \"v4\"]\n",
    "    counts = counts.sort_index()\n",
    "    display_names = [SHORT_SOURCE_NAMES[name] for name in counts.index]\n",
    "    counts[\"display names\"] = display_names\n",
    "    source_types = []\n",
    "    source_colors = []\n",
    "    for source in counts.index:\n",
    "        if source in UPDATE_SOURCE_NAMES:\n",
    "            source_types.append(\"Updated\")\n",
    "            source_colors.append(UPDATED_SOURCE_COLOR)\n",
    "        elif source in NEW_SOURCE_NAMES:\n",
    "            source_types.append(\"New\")\n",
    "            source_colors.append(NEW_SOURCE_COLOR)\n",
    "        else:\n",
    "            source_types.append(\"Existing\")\n",
    "            source_colors.append(EXISTING_SOURCE_COLOR)\n",
    "    counts[\"source type\"] = source_types\n",
    "    counts[\"source colors\"] = source_colors\n",
    "    return counts"
   ]
  },
  {
   "cell_type": "markdown",
   "id": "e068699a-4c55-436f-bef8-2ec6cf327335",
   "metadata": {},
   "source": [
    "### interactions"
   ]
  },
  {
   "cell_type": "code",
   "execution_count": 7,
   "id": "aab584ec-a9ce-4eae-884b-be0dcd7b687d",
   "metadata": {},
   "outputs": [],
   "source": [
    "interactions_query = \"\"\"\n",
    "SELECT s.source_db_name, COUNT(1) FROM interaction_claims\n",
    "LEFT JOIN sources s\n",
    "ON interaction_claims.source_id = s.id\n",
    "GROUP BY s.source_db_name\n",
    "\"\"\"\n",
    "\n",
    "with conn_v5.cursor() as cur:\n",
    "    result = cur.execute(interactions_query).fetchall()\n",
    "    v5_interaction_claims = {k: v for (k, v) in result}\n",
    "\n",
    "with conn_v4.cursor() as cur:\n",
    "    result = cur.execute(interactions_query).fetchall()\n",
    "    v4_interaction_claims = {k: v for (k, v) in result}"
   ]
  },
  {
   "cell_type": "code",
   "execution_count": 8,
   "id": "f132c209-e5a1-47b1-bc3d-52cd48222ce5",
   "metadata": {},
   "outputs": [],
   "source": [
    "v4_interaction_claims[\"ChEMBL\"] = v4_interaction_claims[\"ChemblInteractions\"]\n",
    "del v4_interaction_claims[\"ChemblInteractions\"]"
   ]
  },
  {
   "cell_type": "code",
   "execution_count": 9,
   "id": "dd8e23f8-930d-4273-918e-6f2cdfbe6adf",
   "metadata": {},
   "outputs": [
    {
     "data": {
      "text/html": [
       "<div>\n",
       "<style scoped>\n",
       "    .dataframe tbody tr th:only-of-type {\n",
       "        vertical-align: middle;\n",
       "    }\n",
       "\n",
       "    .dataframe tbody tr th {\n",
       "        vertical-align: top;\n",
       "    }\n",
       "\n",
       "    .dataframe thead th {\n",
       "        text-align: right;\n",
       "    }\n",
       "</style>\n",
       "<table border=\"1\" class=\"dataframe\">\n",
       "  <thead>\n",
       "    <tr style=\"text-align: right;\">\n",
       "      <th></th>\n",
       "      <th>v5</th>\n",
       "      <th>v4</th>\n",
       "      <th>display names</th>\n",
       "      <th>source type</th>\n",
       "      <th>source colors</th>\n",
       "    </tr>\n",
       "  </thead>\n",
       "  <tbody>\n",
       "    <tr>\n",
       "      <th>CGI</th>\n",
       "      <td>368</td>\n",
       "      <td>372</td>\n",
       "      <td>CGI</td>\n",
       "      <td>Existing</td>\n",
       "      <td>#480a77</td>\n",
       "    </tr>\n",
       "    <tr>\n",
       "      <th>CIViC</th>\n",
       "      <td>1083</td>\n",
       "      <td>959</td>\n",
       "      <td>CIViC</td>\n",
       "      <td>Updated</td>\n",
       "      <td>#8075ff</td>\n",
       "    </tr>\n",
       "    <tr>\n",
       "      <th>COSMIC</th>\n",
       "      <td>37</td>\n",
       "      <td>37</td>\n",
       "      <td>COSMIC</td>\n",
       "      <td>Existing</td>\n",
       "      <td>#480a77</td>\n",
       "    </tr>\n",
       "    <tr>\n",
       "      <th>CancerCommons</th>\n",
       "      <td>109</td>\n",
       "      <td>109</td>\n",
       "      <td>CancerCommons</td>\n",
       "      <td>Existing</td>\n",
       "      <td>#480a77</td>\n",
       "    </tr>\n",
       "    <tr>\n",
       "      <th>ChEMBL</th>\n",
       "      <td>16938</td>\n",
       "      <td>7610</td>\n",
       "      <td>ChEMBL</td>\n",
       "      <td>Updated</td>\n",
       "      <td>#8075ff</td>\n",
       "    </tr>\n",
       "    <tr>\n",
       "      <th>ClearityFoundationBiomarkers</th>\n",
       "      <td>163</td>\n",
       "      <td>163</td>\n",
       "      <td>CF: Biomarkers</td>\n",
       "      <td>Existing</td>\n",
       "      <td>#480a77</td>\n",
       "    </tr>\n",
       "    <tr>\n",
       "      <th>ClearityFoundationClinicalTrial</th>\n",
       "      <td>240</td>\n",
       "      <td>281</td>\n",
       "      <td>CF: Clinical Trials</td>\n",
       "      <td>Existing</td>\n",
       "      <td>#480a77</td>\n",
       "    </tr>\n",
       "    <tr>\n",
       "      <th>DTC</th>\n",
       "      <td>23879</td>\n",
       "      <td>23879</td>\n",
       "      <td>DTC</td>\n",
       "      <td>Existing</td>\n",
       "      <td>#480a77</td>\n",
       "    </tr>\n",
       "    <tr>\n",
       "      <th>DoCM</th>\n",
       "      <td>76</td>\n",
       "      <td>76</td>\n",
       "      <td>DoCM</td>\n",
       "      <td>Existing</td>\n",
       "      <td>#480a77</td>\n",
       "    </tr>\n",
       "    <tr>\n",
       "      <th>FDA</th>\n",
       "      <td>427</td>\n",
       "      <td>427</td>\n",
       "      <td>FDA</td>\n",
       "      <td>Existing</td>\n",
       "      <td>#480a77</td>\n",
       "    </tr>\n",
       "    <tr>\n",
       "      <th>GuideToPharmacology</th>\n",
       "      <td>15653</td>\n",
       "      <td>14081</td>\n",
       "      <td>GtoPdb</td>\n",
       "      <td>Existing</td>\n",
       "      <td>#480a77</td>\n",
       "    </tr>\n",
       "    <tr>\n",
       "      <th>JAX-CKB</th>\n",
       "      <td>1822</td>\n",
       "      <td>1962</td>\n",
       "      <td>JAX-CKB</td>\n",
       "      <td>Existing</td>\n",
       "      <td>#480a77</td>\n",
       "    </tr>\n",
       "    <tr>\n",
       "      <th>MyCancerGenome</th>\n",
       "      <td>821</td>\n",
       "      <td>865</td>\n",
       "      <td>MCG</td>\n",
       "      <td>Existing</td>\n",
       "      <td>#480a77</td>\n",
       "    </tr>\n",
       "    <tr>\n",
       "      <th>MyCancerGenomeClinicalTrial</th>\n",
       "      <td>316</td>\n",
       "      <td>377</td>\n",
       "      <td>MCG: Clinical Trials</td>\n",
       "      <td>Existing</td>\n",
       "      <td>#480a77</td>\n",
       "    </tr>\n",
       "    <tr>\n",
       "      <th>NCI</th>\n",
       "      <td>6231</td>\n",
       "      <td>6231</td>\n",
       "      <td>NCI</td>\n",
       "      <td>Existing</td>\n",
       "      <td>#480a77</td>\n",
       "    </tr>\n",
       "    <tr>\n",
       "      <th>OncoKB</th>\n",
       "      <td>148</td>\n",
       "      <td>150</td>\n",
       "      <td>OncoKB</td>\n",
       "      <td>Existing</td>\n",
       "      <td>#480a77</td>\n",
       "    </tr>\n",
       "    <tr>\n",
       "      <th>PharmGKB</th>\n",
       "      <td>5300</td>\n",
       "      <td>5078</td>\n",
       "      <td>PharmGKB</td>\n",
       "      <td>Updated</td>\n",
       "      <td>#8075ff</td>\n",
       "    </tr>\n",
       "    <tr>\n",
       "      <th>TALC</th>\n",
       "      <td>602</td>\n",
       "      <td>624</td>\n",
       "      <td>TALC</td>\n",
       "      <td>Existing</td>\n",
       "      <td>#480a77</td>\n",
       "    </tr>\n",
       "    <tr>\n",
       "      <th>TEND</th>\n",
       "      <td>2242</td>\n",
       "      <td>2243</td>\n",
       "      <td>TEND</td>\n",
       "      <td>Existing</td>\n",
       "      <td>#480a77</td>\n",
       "    </tr>\n",
       "    <tr>\n",
       "      <th>TTD</th>\n",
       "      <td>15245</td>\n",
       "      <td>15245</td>\n",
       "      <td>TTD</td>\n",
       "      <td>Existing</td>\n",
       "      <td>#480a77</td>\n",
       "    </tr>\n",
       "    <tr>\n",
       "      <th>TdgClinicalTrial</th>\n",
       "      <td>5071</td>\n",
       "      <td>5063</td>\n",
       "      <td>TDG: Clinical Trials</td>\n",
       "      <td>Existing</td>\n",
       "      <td>#480a77</td>\n",
       "    </tr>\n",
       "  </tbody>\n",
       "</table>\n",
       "</div>"
      ],
      "text/plain": [
       "                                    v5     v4         display names  \\\n",
       "CGI                                368    372                   CGI   \n",
       "CIViC                             1083    959                 CIViC   \n",
       "COSMIC                              37     37                COSMIC   \n",
       "CancerCommons                      109    109         CancerCommons   \n",
       "ChEMBL                           16938   7610                ChEMBL   \n",
       "ClearityFoundationBiomarkers       163    163        CF: Biomarkers   \n",
       "ClearityFoundationClinicalTrial    240    281   CF: Clinical Trials   \n",
       "DTC                              23879  23879                   DTC   \n",
       "DoCM                                76     76                  DoCM   \n",
       "FDA                                427    427                   FDA   \n",
       "GuideToPharmacology              15653  14081                GtoPdb   \n",
       "JAX-CKB                           1822   1962               JAX-CKB   \n",
       "MyCancerGenome                     821    865                   MCG   \n",
       "MyCancerGenomeClinicalTrial        316    377  MCG: Clinical Trials   \n",
       "NCI                               6231   6231                   NCI   \n",
       "OncoKB                             148    150                OncoKB   \n",
       "PharmGKB                          5300   5078              PharmGKB   \n",
       "TALC                               602    624                  TALC   \n",
       "TEND                              2242   2243                  TEND   \n",
       "TTD                              15245  15245                   TTD   \n",
       "TdgClinicalTrial                  5071   5063  TDG: Clinical Trials   \n",
       "\n",
       "                                source type source colors  \n",
       "CGI                                Existing       #480a77  \n",
       "CIViC                               Updated       #8075ff  \n",
       "COSMIC                             Existing       #480a77  \n",
       "CancerCommons                      Existing       #480a77  \n",
       "ChEMBL                              Updated       #8075ff  \n",
       "ClearityFoundationBiomarkers       Existing       #480a77  \n",
       "ClearityFoundationClinicalTrial    Existing       #480a77  \n",
       "DTC                                Existing       #480a77  \n",
       "DoCM                               Existing       #480a77  \n",
       "FDA                                Existing       #480a77  \n",
       "GuideToPharmacology                Existing       #480a77  \n",
       "JAX-CKB                            Existing       #480a77  \n",
       "MyCancerGenome                     Existing       #480a77  \n",
       "MyCancerGenomeClinicalTrial        Existing       #480a77  \n",
       "NCI                                Existing       #480a77  \n",
       "OncoKB                             Existing       #480a77  \n",
       "PharmGKB                            Updated       #8075ff  \n",
       "TALC                               Existing       #480a77  \n",
       "TEND                               Existing       #480a77  \n",
       "TTD                                Existing       #480a77  \n",
       "TdgClinicalTrial                   Existing       #480a77  "
      ]
     },
     "execution_count": 9,
     "metadata": {},
     "output_type": "execute_result"
    }
   ],
   "source": [
    "interaction_claims = make_dataframe(v5_interaction_claims, v4_interaction_claims)\n",
    "interaction_claims.to_csv(\"interaction_claims.csv\")\n",
    "interaction_claims"
   ]
  },
  {
   "cell_type": "markdown",
   "id": "d88cbb95-739c-4fa3-ae5f-e2c50879a95f",
   "metadata": {},
   "source": [
    "### gene claims\n",
    "\n",
    "TODO:\n",
    "\n",
    " * manually fill in DrugBank counts (from v4 paper?)"
   ]
  },
  {
   "cell_type": "code",
   "execution_count": 10,
   "id": "f747ce7c-796e-4514-a8f5-2c14cf75ec29",
   "metadata": {},
   "outputs": [],
   "source": [
    "genes_query = \"\"\"\n",
    "SELECT s.source_db_name, COUNT(1) FROM gene_claims\n",
    "LEFT JOIN sources s\n",
    "ON gene_claims.source_id = s.id\n",
    "GROUP BY s.source_db_name\n",
    "\"\"\"\n",
    "\n",
    "with conn_v5.cursor() as cur:\n",
    "    result = cur.execute(genes_query).fetchall()\n",
    "    v5_gene_claims = {k: v for (k, v) in result}\n",
    "\n",
    "with conn_v4.cursor() as cur:\n",
    "    result = cur.execute(genes_query).fetchall()\n",
    "    v4_gene_claims = {k: v for (k, v) in result}"
   ]
  },
  {
   "cell_type": "code",
   "execution_count": 11,
   "id": "404c0919-1b30-423f-a3ca-e1ed72dd9c5a",
   "metadata": {},
   "outputs": [],
   "source": [
    "v4_gene_claims[\"BaderLab\"] = v4_gene_claims[\"BaderLabGenes\"]\n",
    "del v4_gene_claims[\"BaderLabGenes\"]\n",
    "v4_gene_claims[\"ChEMBL\"] = v4_gene_claims[\"ChemblInteractions\"]\n",
    "del v4_gene_claims[\"ChemblInteractions\"]\n",
    "v4_gene_claims[\"NCBI\"] = 43741  # manually supply"
   ]
  },
  {
   "cell_type": "code",
   "execution_count": 12,
   "id": "c0cf75af-19c4-4b3b-99ca-bc8ac85bf589",
   "metadata": {},
   "outputs": [
    {
     "data": {
      "text/html": [
       "<div>\n",
       "<style scoped>\n",
       "    .dataframe tbody tr th:only-of-type {\n",
       "        vertical-align: middle;\n",
       "    }\n",
       "\n",
       "    .dataframe tbody tr th {\n",
       "        vertical-align: top;\n",
       "    }\n",
       "\n",
       "    .dataframe thead th {\n",
       "        text-align: right;\n",
       "    }\n",
       "</style>\n",
       "<table border=\"1\" class=\"dataframe\">\n",
       "  <thead>\n",
       "    <tr style=\"text-align: right;\">\n",
       "      <th></th>\n",
       "      <th>v5</th>\n",
       "      <th>v4</th>\n",
       "      <th>display names</th>\n",
       "      <th>source type</th>\n",
       "      <th>source colors</th>\n",
       "    </tr>\n",
       "  </thead>\n",
       "  <tbody>\n",
       "    <tr>\n",
       "      <th>BaderLab</th>\n",
       "      <td>48</td>\n",
       "      <td>300</td>\n",
       "      <td>BaderLab</td>\n",
       "      <td>Existing</td>\n",
       "      <td>#480a77</td>\n",
       "    </tr>\n",
       "    <tr>\n",
       "      <th>CGI</th>\n",
       "      <td>123</td>\n",
       "      <td>118</td>\n",
       "      <td>CGI</td>\n",
       "      <td>Existing</td>\n",
       "      <td>#480a77</td>\n",
       "    </tr>\n",
       "    <tr>\n",
       "      <th>CIViC</th>\n",
       "      <td>278</td>\n",
       "      <td>252</td>\n",
       "      <td>CIViC</td>\n",
       "      <td>Updated</td>\n",
       "      <td>#8075ff</td>\n",
       "    </tr>\n",
       "    <tr>\n",
       "      <th>COSMIC</th>\n",
       "      <td>15</td>\n",
       "      <td>15</td>\n",
       "      <td>COSMIC</td>\n",
       "      <td>Existing</td>\n",
       "      <td>#480a77</td>\n",
       "    </tr>\n",
       "    <tr>\n",
       "      <th>CancerCommons</th>\n",
       "      <td>48</td>\n",
       "      <td>48</td>\n",
       "      <td>CancerCommons</td>\n",
       "      <td>Existing</td>\n",
       "      <td>#480a77</td>\n",
       "    </tr>\n",
       "    <tr>\n",
       "      <th>CarisMolecularIntelligence</th>\n",
       "      <td>608</td>\n",
       "      <td>608</td>\n",
       "      <td>CMI</td>\n",
       "      <td>Existing</td>\n",
       "      <td>#480a77</td>\n",
       "    </tr>\n",
       "    <tr>\n",
       "      <th>ChEMBL</th>\n",
       "      <td>1779</td>\n",
       "      <td>1085</td>\n",
       "      <td>ChEMBL</td>\n",
       "      <td>Updated</td>\n",
       "      <td>#8075ff</td>\n",
       "    </tr>\n",
       "    <tr>\n",
       "      <th>ClearityFoundationBiomarkers</th>\n",
       "      <td>34</td>\n",
       "      <td>34</td>\n",
       "      <td>CF: Biomarkers</td>\n",
       "      <td>Existing</td>\n",
       "      <td>#480a77</td>\n",
       "    </tr>\n",
       "    <tr>\n",
       "      <th>ClearityFoundationClinicalTrial</th>\n",
       "      <td>93</td>\n",
       "      <td>108</td>\n",
       "      <td>CF: Clinical Trials</td>\n",
       "      <td>Existing</td>\n",
       "      <td>#480a77</td>\n",
       "    </tr>\n",
       "    <tr>\n",
       "      <th>DTC</th>\n",
       "      <td>1016</td>\n",
       "      <td>1016</td>\n",
       "      <td>DTC</td>\n",
       "      <td>Existing</td>\n",
       "      <td>#480a77</td>\n",
       "    </tr>\n",
       "    <tr>\n",
       "      <th>DoCM</th>\n",
       "      <td>35</td>\n",
       "      <td>35</td>\n",
       "      <td>DoCM</td>\n",
       "      <td>Existing</td>\n",
       "      <td>#480a77</td>\n",
       "    </tr>\n",
       "    <tr>\n",
       "      <th>DrugBank</th>\n",
       "      <td>3981</td>\n",
       "      <td>0</td>\n",
       "      <td>DrugBank</td>\n",
       "      <td>Updated</td>\n",
       "      <td>#8075ff</td>\n",
       "    </tr>\n",
       "    <tr>\n",
       "      <th>Ensembl</th>\n",
       "      <td>11204</td>\n",
       "      <td>60671</td>\n",
       "      <td>Ensembl</td>\n",
       "      <td>Existing</td>\n",
       "      <td>#480a77</td>\n",
       "    </tr>\n",
       "    <tr>\n",
       "      <th>FDA</th>\n",
       "      <td>89</td>\n",
       "      <td>89</td>\n",
       "      <td>FDA</td>\n",
       "      <td>Existing</td>\n",
       "      <td>#480a77</td>\n",
       "    </tr>\n",
       "    <tr>\n",
       "      <th>FoundationOneGenes</th>\n",
       "      <td>664</td>\n",
       "      <td>664</td>\n",
       "      <td>FO: Genes</td>\n",
       "      <td>Existing</td>\n",
       "      <td>#480a77</td>\n",
       "    </tr>\n",
       "    <tr>\n",
       "      <th>GO</th>\n",
       "      <td>3260</td>\n",
       "      <td>3534</td>\n",
       "      <td>GO</td>\n",
       "      <td>Existing</td>\n",
       "      <td>#480a77</td>\n",
       "    </tr>\n",
       "    <tr>\n",
       "      <th>GuideToPharmacology</th>\n",
       "      <td>4376</td>\n",
       "      <td>2942</td>\n",
       "      <td>GtoPdb</td>\n",
       "      <td>Existing</td>\n",
       "      <td>#480a77</td>\n",
       "    </tr>\n",
       "    <tr>\n",
       "      <th>HGNC</th>\n",
       "      <td>11272</td>\n",
       "      <td>0</td>\n",
       "      <td>HGNC</td>\n",
       "      <td>New</td>\n",
       "      <td>#fa198b</td>\n",
       "    </tr>\n",
       "    <tr>\n",
       "      <th>HingoraniCasas</th>\n",
       "      <td>4463</td>\n",
       "      <td>4479</td>\n",
       "      <td>Hingorani/Casas</td>\n",
       "      <td>Existing</td>\n",
       "      <td>#480a77</td>\n",
       "    </tr>\n",
       "    <tr>\n",
       "      <th>HopkinsGroom</th>\n",
       "      <td>2676</td>\n",
       "      <td>2676</td>\n",
       "      <td>Hopkins/Groom</td>\n",
       "      <td>Existing</td>\n",
       "      <td>#480a77</td>\n",
       "    </tr>\n",
       "    <tr>\n",
       "      <th>HumanProteinAtlas</th>\n",
       "      <td>1325</td>\n",
       "      <td>1325</td>\n",
       "      <td>Human Protein Atlas</td>\n",
       "      <td>Existing</td>\n",
       "      <td>#480a77</td>\n",
       "    </tr>\n",
       "    <tr>\n",
       "      <th>IDG</th>\n",
       "      <td>313</td>\n",
       "      <td>329</td>\n",
       "      <td>IDG</td>\n",
       "      <td>Existing</td>\n",
       "      <td>#480a77</td>\n",
       "    </tr>\n",
       "    <tr>\n",
       "      <th>JAX-CKB</th>\n",
       "      <td>50</td>\n",
       "      <td>86</td>\n",
       "      <td>JAX-CKB</td>\n",
       "      <td>Existing</td>\n",
       "      <td>#480a77</td>\n",
       "    </tr>\n",
       "    <tr>\n",
       "      <th>MskImpact</th>\n",
       "      <td>350</td>\n",
       "      <td>350</td>\n",
       "      <td>MSK Impact</td>\n",
       "      <td>Existing</td>\n",
       "      <td>#480a77</td>\n",
       "    </tr>\n",
       "    <tr>\n",
       "      <th>MyCancerGenome</th>\n",
       "      <td>169</td>\n",
       "      <td>182</td>\n",
       "      <td>MCG</td>\n",
       "      <td>Existing</td>\n",
       "      <td>#480a77</td>\n",
       "    </tr>\n",
       "    <tr>\n",
       "      <th>MyCancerGenomeClinicalTrial</th>\n",
       "      <td>82</td>\n",
       "      <td>83</td>\n",
       "      <td>MCG: Clinical Trials</td>\n",
       "      <td>Existing</td>\n",
       "      <td>#480a77</td>\n",
       "    </tr>\n",
       "    <tr>\n",
       "      <th>NCBI</th>\n",
       "      <td>11301</td>\n",
       "      <td>43741</td>\n",
       "      <td>NCBI Gene</td>\n",
       "      <td>Existing</td>\n",
       "      <td>#480a77</td>\n",
       "    </tr>\n",
       "    <tr>\n",
       "      <th>NCI</th>\n",
       "      <td>1045</td>\n",
       "      <td>1045</td>\n",
       "      <td>NCI</td>\n",
       "      <td>Existing</td>\n",
       "      <td>#480a77</td>\n",
       "    </tr>\n",
       "    <tr>\n",
       "      <th>OncoKB</th>\n",
       "      <td>54</td>\n",
       "      <td>55</td>\n",
       "      <td>OncoKB</td>\n",
       "      <td>Existing</td>\n",
       "      <td>#480a77</td>\n",
       "    </tr>\n",
       "    <tr>\n",
       "      <th>Oncomine</th>\n",
       "      <td>161</td>\n",
       "      <td>161</td>\n",
       "      <td>Oncomine</td>\n",
       "      <td>Existing</td>\n",
       "      <td>#480a77</td>\n",
       "    </tr>\n",
       "    <tr>\n",
       "      <th>PharmGKB</th>\n",
       "      <td>1448</td>\n",
       "      <td>1274</td>\n",
       "      <td>PharmGKB</td>\n",
       "      <td>Updated</td>\n",
       "      <td>#8075ff</td>\n",
       "    </tr>\n",
       "    <tr>\n",
       "      <th>Pharos</th>\n",
       "      <td>6038</td>\n",
       "      <td>6052</td>\n",
       "      <td>Pharos</td>\n",
       "      <td>Existing</td>\n",
       "      <td>#480a77</td>\n",
       "    </tr>\n",
       "    <tr>\n",
       "      <th>RussLampel</th>\n",
       "      <td>3361</td>\n",
       "      <td>3361</td>\n",
       "      <td>Russ/Lampel</td>\n",
       "      <td>Existing</td>\n",
       "      <td>#480a77</td>\n",
       "    </tr>\n",
       "    <tr>\n",
       "      <th>TALC</th>\n",
       "      <td>153</td>\n",
       "      <td>191</td>\n",
       "      <td>TALC</td>\n",
       "      <td>Existing</td>\n",
       "      <td>#480a77</td>\n",
       "    </tr>\n",
       "    <tr>\n",
       "      <th>TEND</th>\n",
       "      <td>436</td>\n",
       "      <td>437</td>\n",
       "      <td>TEND</td>\n",
       "      <td>Existing</td>\n",
       "      <td>#480a77</td>\n",
       "    </tr>\n",
       "    <tr>\n",
       "      <th>TTD</th>\n",
       "      <td>2040</td>\n",
       "      <td>2040</td>\n",
       "      <td>TTD</td>\n",
       "      <td>Existing</td>\n",
       "      <td>#480a77</td>\n",
       "    </tr>\n",
       "    <tr>\n",
       "      <th>TdgClinicalTrial</th>\n",
       "      <td>1024</td>\n",
       "      <td>1016</td>\n",
       "      <td>TDG: Clinical Trials</td>\n",
       "      <td>Existing</td>\n",
       "      <td>#480a77</td>\n",
       "    </tr>\n",
       "    <tr>\n",
       "      <th>Tempus</th>\n",
       "      <td>596</td>\n",
       "      <td>596</td>\n",
       "      <td>Tempus</td>\n",
       "      <td>Existing</td>\n",
       "      <td>#480a77</td>\n",
       "    </tr>\n",
       "    <tr>\n",
       "      <th>dGene</th>\n",
       "      <td>2257</td>\n",
       "      <td>2257</td>\n",
       "      <td>dGene</td>\n",
       "      <td>Existing</td>\n",
       "      <td>#480a77</td>\n",
       "    </tr>\n",
       "  </tbody>\n",
       "</table>\n",
       "</div>"
      ],
      "text/plain": [
       "                                    v5     v4         display names  \\\n",
       "BaderLab                            48    300              BaderLab   \n",
       "CGI                                123    118                   CGI   \n",
       "CIViC                              278    252                 CIViC   \n",
       "COSMIC                              15     15                COSMIC   \n",
       "CancerCommons                       48     48         CancerCommons   \n",
       "CarisMolecularIntelligence         608    608                   CMI   \n",
       "ChEMBL                            1779   1085                ChEMBL   \n",
       "ClearityFoundationBiomarkers        34     34        CF: Biomarkers   \n",
       "ClearityFoundationClinicalTrial     93    108   CF: Clinical Trials   \n",
       "DTC                               1016   1016                   DTC   \n",
       "DoCM                                35     35                  DoCM   \n",
       "DrugBank                          3981      0              DrugBank   \n",
       "Ensembl                          11204  60671               Ensembl   \n",
       "FDA                                 89     89                   FDA   \n",
       "FoundationOneGenes                 664    664             FO: Genes   \n",
       "GO                                3260   3534                    GO   \n",
       "GuideToPharmacology               4376   2942                GtoPdb   \n",
       "HGNC                             11272      0                  HGNC   \n",
       "HingoraniCasas                    4463   4479       Hingorani/Casas   \n",
       "HopkinsGroom                      2676   2676         Hopkins/Groom   \n",
       "HumanProteinAtlas                 1325   1325   Human Protein Atlas   \n",
       "IDG                                313    329                   IDG   \n",
       "JAX-CKB                             50     86               JAX-CKB   \n",
       "MskImpact                          350    350            MSK Impact   \n",
       "MyCancerGenome                     169    182                   MCG   \n",
       "MyCancerGenomeClinicalTrial         82     83  MCG: Clinical Trials   \n",
       "NCBI                             11301  43741             NCBI Gene   \n",
       "NCI                               1045   1045                   NCI   \n",
       "OncoKB                              54     55                OncoKB   \n",
       "Oncomine                           161    161              Oncomine   \n",
       "PharmGKB                          1448   1274              PharmGKB   \n",
       "Pharos                            6038   6052                Pharos   \n",
       "RussLampel                        3361   3361           Russ/Lampel   \n",
       "TALC                               153    191                  TALC   \n",
       "TEND                               436    437                  TEND   \n",
       "TTD                               2040   2040                   TTD   \n",
       "TdgClinicalTrial                  1024   1016  TDG: Clinical Trials   \n",
       "Tempus                             596    596                Tempus   \n",
       "dGene                             2257   2257                 dGene   \n",
       "\n",
       "                                source type source colors  \n",
       "BaderLab                           Existing       #480a77  \n",
       "CGI                                Existing       #480a77  \n",
       "CIViC                               Updated       #8075ff  \n",
       "COSMIC                             Existing       #480a77  \n",
       "CancerCommons                      Existing       #480a77  \n",
       "CarisMolecularIntelligence         Existing       #480a77  \n",
       "ChEMBL                              Updated       #8075ff  \n",
       "ClearityFoundationBiomarkers       Existing       #480a77  \n",
       "ClearityFoundationClinicalTrial    Existing       #480a77  \n",
       "DTC                                Existing       #480a77  \n",
       "DoCM                               Existing       #480a77  \n",
       "DrugBank                            Updated       #8075ff  \n",
       "Ensembl                            Existing       #480a77  \n",
       "FDA                                Existing       #480a77  \n",
       "FoundationOneGenes                 Existing       #480a77  \n",
       "GO                                 Existing       #480a77  \n",
       "GuideToPharmacology                Existing       #480a77  \n",
       "HGNC                                    New       #fa198b  \n",
       "HingoraniCasas                     Existing       #480a77  \n",
       "HopkinsGroom                       Existing       #480a77  \n",
       "HumanProteinAtlas                  Existing       #480a77  \n",
       "IDG                                Existing       #480a77  \n",
       "JAX-CKB                            Existing       #480a77  \n",
       "MskImpact                          Existing       #480a77  \n",
       "MyCancerGenome                     Existing       #480a77  \n",
       "MyCancerGenomeClinicalTrial        Existing       #480a77  \n",
       "NCBI                               Existing       #480a77  \n",
       "NCI                                Existing       #480a77  \n",
       "OncoKB                             Existing       #480a77  \n",
       "Oncomine                           Existing       #480a77  \n",
       "PharmGKB                            Updated       #8075ff  \n",
       "Pharos                             Existing       #480a77  \n",
       "RussLampel                         Existing       #480a77  \n",
       "TALC                               Existing       #480a77  \n",
       "TEND                               Existing       #480a77  \n",
       "TTD                                Existing       #480a77  \n",
       "TdgClinicalTrial                   Existing       #480a77  \n",
       "Tempus                             Existing       #480a77  \n",
       "dGene                              Existing       #480a77  "
      ]
     },
     "execution_count": 12,
     "metadata": {},
     "output_type": "execute_result"
    }
   ],
   "source": [
    "gene_claims = make_dataframe(v5_gene_claims, v4_gene_claims)\n",
    "gene_claims.to_csv(\"gene_claims.csv\")\n",
    "gene_claims"
   ]
  },
  {
   "cell_type": "markdown",
   "id": "b4aea126-96b6-4565-91cc-23f159dd91b9",
   "metadata": {},
   "source": [
    "### drug claims"
   ]
  },
  {
   "cell_type": "code",
   "execution_count": 13,
   "id": "d4404234-d87d-4640-9c13-84d6add07d43",
   "metadata": {},
   "outputs": [],
   "source": [
    "drug_query = \"\"\"\n",
    "SELECT s.source_db_name, COUNT(1) FROM drug_claims\n",
    "LEFT JOIN sources s\n",
    "ON drug_claims.source_id = s.id\n",
    "GROUP BY s.source_db_name\n",
    "\"\"\"\n",
    "\n",
    "with conn_v5.cursor() as cur:\n",
    "    result = cur.execute(drug_query).fetchall()\n",
    "    v5_drug_claims = {k: v for (k, v) in result}\n",
    "\n",
    "with conn_v4.cursor() as cur:\n",
    "    result = cur.execute(drug_query).fetchall()\n",
    "    v4_drug_claims = {k: v for (k, v) in result}"
   ]
  },
  {
   "cell_type": "code",
   "execution_count": 14,
   "id": "774d4fce-4861-497e-b255-e6c15f62f2d7",
   "metadata": {},
   "outputs": [],
   "source": [
    "v4_drug_claims[\"ChEMBL\"] = v4_drug_claims[\"ChemblDrugs\"] + v4_drug_claims[\"ChemblInteractions\"]\n",
    "del v4_drug_claims[\"ChemblDrugs\"]\n",
    "del v4_drug_claims[\"ChemblInteractions\"]"
   ]
  },
  {
   "cell_type": "code",
   "execution_count": 15,
   "id": "2c0cc1a7-bf01-4ded-996d-9e9a5e57cbc8",
   "metadata": {},
   "outputs": [
    {
     "data": {
      "text/html": [
       "<div>\n",
       "<style scoped>\n",
       "    .dataframe tbody tr th:only-of-type {\n",
       "        vertical-align: middle;\n",
       "    }\n",
       "\n",
       "    .dataframe tbody tr th {\n",
       "        vertical-align: top;\n",
       "    }\n",
       "\n",
       "    .dataframe thead th {\n",
       "        text-align: right;\n",
       "    }\n",
       "</style>\n",
       "<table border=\"1\" class=\"dataframe\">\n",
       "  <thead>\n",
       "    <tr style=\"text-align: right;\">\n",
       "      <th></th>\n",
       "      <th>v5</th>\n",
       "      <th>v4</th>\n",
       "      <th>display names</th>\n",
       "      <th>source type</th>\n",
       "      <th>source colors</th>\n",
       "    </tr>\n",
       "  </thead>\n",
       "  <tbody>\n",
       "    <tr>\n",
       "      <th>CGI</th>\n",
       "      <td>148</td>\n",
       "      <td>155</td>\n",
       "      <td>CGI</td>\n",
       "      <td>Existing</td>\n",
       "      <td>#480a77</td>\n",
       "    </tr>\n",
       "    <tr>\n",
       "      <th>CIViC</th>\n",
       "      <td>416</td>\n",
       "      <td>367</td>\n",
       "      <td>CIViC</td>\n",
       "      <td>Updated</td>\n",
       "      <td>#8075ff</td>\n",
       "    </tr>\n",
       "    <tr>\n",
       "      <th>COSMIC</th>\n",
       "      <td>28</td>\n",
       "      <td>28</td>\n",
       "      <td>COSMIC</td>\n",
       "      <td>Existing</td>\n",
       "      <td>#480a77</td>\n",
       "    </tr>\n",
       "    <tr>\n",
       "      <th>CancerCommons</th>\n",
       "      <td>80</td>\n",
       "      <td>80</td>\n",
       "      <td>CancerCommons</td>\n",
       "      <td>Existing</td>\n",
       "      <td>#480a77</td>\n",
       "    </tr>\n",
       "    <tr>\n",
       "      <th>ChEMBL</th>\n",
       "      <td>5659</td>\n",
       "      <td>17037</td>\n",
       "      <td>ChEMBL</td>\n",
       "      <td>Updated</td>\n",
       "      <td>#8075ff</td>\n",
       "    </tr>\n",
       "    <tr>\n",
       "      <th>ChemIDplus</th>\n",
       "      <td>5879</td>\n",
       "      <td>0</td>\n",
       "      <td>ChemIDplus</td>\n",
       "      <td>New</td>\n",
       "      <td>#fa198b</td>\n",
       "    </tr>\n",
       "    <tr>\n",
       "      <th>ClearityFoundationBiomarkers</th>\n",
       "      <td>64</td>\n",
       "      <td>64</td>\n",
       "      <td>CF: Biomarkers</td>\n",
       "      <td>Existing</td>\n",
       "      <td>#480a77</td>\n",
       "    </tr>\n",
       "    <tr>\n",
       "      <th>ClearityFoundationClinicalTrial</th>\n",
       "      <td>114</td>\n",
       "      <td>115</td>\n",
       "      <td>CF: Clinical Trials</td>\n",
       "      <td>Existing</td>\n",
       "      <td>#480a77</td>\n",
       "    </tr>\n",
       "    <tr>\n",
       "      <th>DTC</th>\n",
       "      <td>6290</td>\n",
       "      <td>6290</td>\n",
       "      <td>DTC</td>\n",
       "      <td>Existing</td>\n",
       "      <td>#480a77</td>\n",
       "    </tr>\n",
       "    <tr>\n",
       "      <th>DoCM</th>\n",
       "      <td>39</td>\n",
       "      <td>39</td>\n",
       "      <td>DoCM</td>\n",
       "      <td>Existing</td>\n",
       "      <td>#480a77</td>\n",
       "    </tr>\n",
       "    <tr>\n",
       "      <th>DrugBank</th>\n",
       "      <td>7546</td>\n",
       "      <td>0</td>\n",
       "      <td>DrugBank</td>\n",
       "      <td>Updated</td>\n",
       "      <td>#8075ff</td>\n",
       "    </tr>\n",
       "    <tr>\n",
       "      <th>Drugs@FDA</th>\n",
       "      <td>9233</td>\n",
       "      <td>0</td>\n",
       "      <td>Drugs@FDA</td>\n",
       "      <td>New</td>\n",
       "      <td>#fa198b</td>\n",
       "    </tr>\n",
       "    <tr>\n",
       "      <th>FDA</th>\n",
       "      <td>289</td>\n",
       "      <td>291</td>\n",
       "      <td>FDA</td>\n",
       "      <td>Existing</td>\n",
       "      <td>#480a77</td>\n",
       "    </tr>\n",
       "    <tr>\n",
       "      <th>GuideToPharmacology</th>\n",
       "      <td>8271</td>\n",
       "      <td>7233</td>\n",
       "      <td>GtoPdb</td>\n",
       "      <td>Existing</td>\n",
       "      <td>#480a77</td>\n",
       "    </tr>\n",
       "    <tr>\n",
       "      <th>HemOnc</th>\n",
       "      <td>488</td>\n",
       "      <td>0</td>\n",
       "      <td>HemOnc.org</td>\n",
       "      <td>Existing</td>\n",
       "      <td>#480a77</td>\n",
       "    </tr>\n",
       "    <tr>\n",
       "      <th>JAX-CKB</th>\n",
       "      <td>741</td>\n",
       "      <td>733</td>\n",
       "      <td>JAX-CKB</td>\n",
       "      <td>Existing</td>\n",
       "      <td>#480a77</td>\n",
       "    </tr>\n",
       "    <tr>\n",
       "      <th>MyCancerGenome</th>\n",
       "      <td>226</td>\n",
       "      <td>252</td>\n",
       "      <td>MCG</td>\n",
       "      <td>Existing</td>\n",
       "      <td>#480a77</td>\n",
       "    </tr>\n",
       "    <tr>\n",
       "      <th>MyCancerGenomeClinicalTrial</th>\n",
       "      <td>82</td>\n",
       "      <td>112</td>\n",
       "      <td>MCG: Clinical Trials</td>\n",
       "      <td>Existing</td>\n",
       "      <td>#480a77</td>\n",
       "    </tr>\n",
       "    <tr>\n",
       "      <th>NCI</th>\n",
       "      <td>1519</td>\n",
       "      <td>1519</td>\n",
       "      <td>NCI</td>\n",
       "      <td>Existing</td>\n",
       "      <td>#480a77</td>\n",
       "    </tr>\n",
       "    <tr>\n",
       "      <th>NCIt</th>\n",
       "      <td>7028</td>\n",
       "      <td>0</td>\n",
       "      <td>NCIt</td>\n",
       "      <td>New</td>\n",
       "      <td>#fa198b</td>\n",
       "    </tr>\n",
       "    <tr>\n",
       "      <th>OncoKB</th>\n",
       "      <td>89</td>\n",
       "      <td>89</td>\n",
       "      <td>OncoKB</td>\n",
       "      <td>Existing</td>\n",
       "      <td>#480a77</td>\n",
       "    </tr>\n",
       "    <tr>\n",
       "      <th>PharmGKB</th>\n",
       "      <td>1177</td>\n",
       "      <td>1072</td>\n",
       "      <td>PharmGKB</td>\n",
       "      <td>Updated</td>\n",
       "      <td>#8075ff</td>\n",
       "    </tr>\n",
       "    <tr>\n",
       "      <th>RxNorm</th>\n",
       "      <td>4544</td>\n",
       "      <td>0</td>\n",
       "      <td>RxNorm</td>\n",
       "      <td>Existing</td>\n",
       "      <td>#480a77</td>\n",
       "    </tr>\n",
       "    <tr>\n",
       "      <th>TALC</th>\n",
       "      <td>285</td>\n",
       "      <td>274</td>\n",
       "      <td>TALC</td>\n",
       "      <td>Existing</td>\n",
       "      <td>#480a77</td>\n",
       "    </tr>\n",
       "    <tr>\n",
       "      <th>TEND</th>\n",
       "      <td>988</td>\n",
       "      <td>989</td>\n",
       "      <td>TEND</td>\n",
       "      <td>Existing</td>\n",
       "      <td>#480a77</td>\n",
       "    </tr>\n",
       "    <tr>\n",
       "      <th>TTD</th>\n",
       "      <td>12410</td>\n",
       "      <td>12410</td>\n",
       "      <td>TTD</td>\n",
       "      <td>Existing</td>\n",
       "      <td>#480a77</td>\n",
       "    </tr>\n",
       "    <tr>\n",
       "      <th>TdgClinicalTrial</th>\n",
       "      <td>2425</td>\n",
       "      <td>2419</td>\n",
       "      <td>TDG: Clinical Trials</td>\n",
       "      <td>Existing</td>\n",
       "      <td>#480a77</td>\n",
       "    </tr>\n",
       "    <tr>\n",
       "      <th>Wikidata</th>\n",
       "      <td>2634</td>\n",
       "      <td>128</td>\n",
       "      <td>Wikidata</td>\n",
       "      <td>Updated</td>\n",
       "      <td>#8075ff</td>\n",
       "    </tr>\n",
       "  </tbody>\n",
       "</table>\n",
       "</div>"
      ],
      "text/plain": [
       "                                    v5     v4         display names  \\\n",
       "CGI                                148    155                   CGI   \n",
       "CIViC                              416    367                 CIViC   \n",
       "COSMIC                              28     28                COSMIC   \n",
       "CancerCommons                       80     80         CancerCommons   \n",
       "ChEMBL                            5659  17037                ChEMBL   \n",
       "ChemIDplus                        5879      0            ChemIDplus   \n",
       "ClearityFoundationBiomarkers        64     64        CF: Biomarkers   \n",
       "ClearityFoundationClinicalTrial    114    115   CF: Clinical Trials   \n",
       "DTC                               6290   6290                   DTC   \n",
       "DoCM                                39     39                  DoCM   \n",
       "DrugBank                          7546      0              DrugBank   \n",
       "Drugs@FDA                         9233      0             Drugs@FDA   \n",
       "FDA                                289    291                   FDA   \n",
       "GuideToPharmacology               8271   7233                GtoPdb   \n",
       "HemOnc                             488      0            HemOnc.org   \n",
       "JAX-CKB                            741    733               JAX-CKB   \n",
       "MyCancerGenome                     226    252                   MCG   \n",
       "MyCancerGenomeClinicalTrial         82    112  MCG: Clinical Trials   \n",
       "NCI                               1519   1519                   NCI   \n",
       "NCIt                              7028      0                  NCIt   \n",
       "OncoKB                              89     89                OncoKB   \n",
       "PharmGKB                          1177   1072              PharmGKB   \n",
       "RxNorm                            4544      0                RxNorm   \n",
       "TALC                               285    274                  TALC   \n",
       "TEND                               988    989                  TEND   \n",
       "TTD                              12410  12410                   TTD   \n",
       "TdgClinicalTrial                  2425   2419  TDG: Clinical Trials   \n",
       "Wikidata                          2634    128              Wikidata   \n",
       "\n",
       "                                source type source colors  \n",
       "CGI                                Existing       #480a77  \n",
       "CIViC                               Updated       #8075ff  \n",
       "COSMIC                             Existing       #480a77  \n",
       "CancerCommons                      Existing       #480a77  \n",
       "ChEMBL                              Updated       #8075ff  \n",
       "ChemIDplus                              New       #fa198b  \n",
       "ClearityFoundationBiomarkers       Existing       #480a77  \n",
       "ClearityFoundationClinicalTrial    Existing       #480a77  \n",
       "DTC                                Existing       #480a77  \n",
       "DoCM                               Existing       #480a77  \n",
       "DrugBank                            Updated       #8075ff  \n",
       "Drugs@FDA                               New       #fa198b  \n",
       "FDA                                Existing       #480a77  \n",
       "GuideToPharmacology                Existing       #480a77  \n",
       "HemOnc                             Existing       #480a77  \n",
       "JAX-CKB                            Existing       #480a77  \n",
       "MyCancerGenome                     Existing       #480a77  \n",
       "MyCancerGenomeClinicalTrial        Existing       #480a77  \n",
       "NCI                                Existing       #480a77  \n",
       "NCIt                                    New       #fa198b  \n",
       "OncoKB                             Existing       #480a77  \n",
       "PharmGKB                            Updated       #8075ff  \n",
       "RxNorm                             Existing       #480a77  \n",
       "TALC                               Existing       #480a77  \n",
       "TEND                               Existing       #480a77  \n",
       "TTD                                Existing       #480a77  \n",
       "TdgClinicalTrial                   Existing       #480a77  \n",
       "Wikidata                            Updated       #8075ff  "
      ]
     },
     "execution_count": 15,
     "metadata": {},
     "output_type": "execute_result"
    }
   ],
   "source": [
    "drug_claims = make_dataframe(v5_drug_claims, v4_drug_claims)\n",
    "drug_claims.to_csv(\"drug_claims.csv\")\n",
    "drug_claims"
   ]
  },
  {
   "cell_type": "markdown",
   "id": "a20147e3-7657-4fd4-b8ef-d25e313ccd15",
   "metadata": {},
   "source": [
    "## base count, broken by type"
   ]
  },
  {
   "cell_type": "code",
   "execution_count": 16,
   "id": "03c8d6e1-6484-4fbd-9ecb-0dfa3898398c",
   "metadata": {},
   "outputs": [],
   "source": [
    "import plotly.graph_objects as go"
   ]
  },
  {
   "cell_type": "code",
   "execution_count": 25,
   "id": "f36d49b0-caf4-4484-b212-6917e5f5da04",
   "metadata": {},
   "outputs": [
    {
     "data": {
      "application/vnd.plotly.v1+json": {
       "config": {
        "plotlyServerURL": "https://plot.ly"
       },
       "data": [
        {
         "marker": {
          "color": []
         },
         "name": "New sources",
         "type": "bar",
         "x": [],
         "y": []
        },
        {
         "marker": {
          "color": [
           "#8075ff",
           "#8075ff",
           "#8075ff"
          ]
         },
         "name": "Updated sources",
         "type": "bar",
         "x": [
          "CIViC",
          "ChEMBL",
          "PharmGKB"
         ],
         "y": [
          1083,
          16938,
          5300
         ]
        },
        {
         "marker": {
          "color": [
           "#480a77",
           "#480a77",
           "#480a77",
           "#480a77",
           "#480a77",
           "#480a77",
           "#480a77",
           "#480a77",
           "#480a77",
           "#480a77",
           "#480a77",
           "#480a77",
           "#480a77",
           "#480a77",
           "#480a77",
           "#480a77",
           "#480a77",
           "#480a77"
          ]
         },
         "name": "Existing sources",
         "type": "bar",
         "x": [
          "CGI",
          "COSMIC",
          "CancerCommons",
          "CF: Biomarkers",
          "CF: Clinical Trials",
          "DTC",
          "DoCM",
          "FDA",
          "GtoPdb",
          "JAX-CKB",
          "MCG",
          "MCG: Clinical Trials",
          "NCI",
          "OncoKB",
          "TALC",
          "TEND",
          "TTD",
          "TDG: Clinical Trials"
         ],
         "y": [
          368,
          37,
          109,
          163,
          240,
          23879,
          76,
          427,
          15653,
          1822,
          821,
          316,
          6231,
          148,
          602,
          2242,
          15245,
          5071
         ]
        }
       ],
       "layout": {
        "autosize": true,
        "template": {
         "data": {
          "bar": [
           {
            "error_x": {
             "color": "#2a3f5f"
            },
            "error_y": {
             "color": "#2a3f5f"
            },
            "marker": {
             "line": {
              "color": "#E5ECF6",
              "width": 0.5
             },
             "pattern": {
              "fillmode": "overlay",
              "size": 10,
              "solidity": 0.2
             }
            },
            "type": "bar"
           }
          ],
          "barpolar": [
           {
            "marker": {
             "line": {
              "color": "#E5ECF6",
              "width": 0.5
             },
             "pattern": {
              "fillmode": "overlay",
              "size": 10,
              "solidity": 0.2
             }
            },
            "type": "barpolar"
           }
          ],
          "carpet": [
           {
            "aaxis": {
             "endlinecolor": "#2a3f5f",
             "gridcolor": "white",
             "linecolor": "white",
             "minorgridcolor": "white",
             "startlinecolor": "#2a3f5f"
            },
            "baxis": {
             "endlinecolor": "#2a3f5f",
             "gridcolor": "white",
             "linecolor": "white",
             "minorgridcolor": "white",
             "startlinecolor": "#2a3f5f"
            },
            "type": "carpet"
           }
          ],
          "choropleth": [
           {
            "colorbar": {
             "outlinewidth": 0,
             "ticks": ""
            },
            "type": "choropleth"
           }
          ],
          "contour": [
           {
            "colorbar": {
             "outlinewidth": 0,
             "ticks": ""
            },
            "colorscale": [
             [
              0,
              "#0d0887"
             ],
             [
              0.1111111111111111,
              "#46039f"
             ],
             [
              0.2222222222222222,
              "#7201a8"
             ],
             [
              0.3333333333333333,
              "#9c179e"
             ],
             [
              0.4444444444444444,
              "#bd3786"
             ],
             [
              0.5555555555555556,
              "#d8576b"
             ],
             [
              0.6666666666666666,
              "#ed7953"
             ],
             [
              0.7777777777777778,
              "#fb9f3a"
             ],
             [
              0.8888888888888888,
              "#fdca26"
             ],
             [
              1,
              "#f0f921"
             ]
            ],
            "type": "contour"
           }
          ],
          "contourcarpet": [
           {
            "colorbar": {
             "outlinewidth": 0,
             "ticks": ""
            },
            "type": "contourcarpet"
           }
          ],
          "heatmap": [
           {
            "colorbar": {
             "outlinewidth": 0,
             "ticks": ""
            },
            "colorscale": [
             [
              0,
              "#0d0887"
             ],
             [
              0.1111111111111111,
              "#46039f"
             ],
             [
              0.2222222222222222,
              "#7201a8"
             ],
             [
              0.3333333333333333,
              "#9c179e"
             ],
             [
              0.4444444444444444,
              "#bd3786"
             ],
             [
              0.5555555555555556,
              "#d8576b"
             ],
             [
              0.6666666666666666,
              "#ed7953"
             ],
             [
              0.7777777777777778,
              "#fb9f3a"
             ],
             [
              0.8888888888888888,
              "#fdca26"
             ],
             [
              1,
              "#f0f921"
             ]
            ],
            "type": "heatmap"
           }
          ],
          "heatmapgl": [
           {
            "colorbar": {
             "outlinewidth": 0,
             "ticks": ""
            },
            "colorscale": [
             [
              0,
              "#0d0887"
             ],
             [
              0.1111111111111111,
              "#46039f"
             ],
             [
              0.2222222222222222,
              "#7201a8"
             ],
             [
              0.3333333333333333,
              "#9c179e"
             ],
             [
              0.4444444444444444,
              "#bd3786"
             ],
             [
              0.5555555555555556,
              "#d8576b"
             ],
             [
              0.6666666666666666,
              "#ed7953"
             ],
             [
              0.7777777777777778,
              "#fb9f3a"
             ],
             [
              0.8888888888888888,
              "#fdca26"
             ],
             [
              1,
              "#f0f921"
             ]
            ],
            "type": "heatmapgl"
           }
          ],
          "histogram": [
           {
            "marker": {
             "pattern": {
              "fillmode": "overlay",
              "size": 10,
              "solidity": 0.2
             }
            },
            "type": "histogram"
           }
          ],
          "histogram2d": [
           {
            "colorbar": {
             "outlinewidth": 0,
             "ticks": ""
            },
            "colorscale": [
             [
              0,
              "#0d0887"
             ],
             [
              0.1111111111111111,
              "#46039f"
             ],
             [
              0.2222222222222222,
              "#7201a8"
             ],
             [
              0.3333333333333333,
              "#9c179e"
             ],
             [
              0.4444444444444444,
              "#bd3786"
             ],
             [
              0.5555555555555556,
              "#d8576b"
             ],
             [
              0.6666666666666666,
              "#ed7953"
             ],
             [
              0.7777777777777778,
              "#fb9f3a"
             ],
             [
              0.8888888888888888,
              "#fdca26"
             ],
             [
              1,
              "#f0f921"
             ]
            ],
            "type": "histogram2d"
           }
          ],
          "histogram2dcontour": [
           {
            "colorbar": {
             "outlinewidth": 0,
             "ticks": ""
            },
            "colorscale": [
             [
              0,
              "#0d0887"
             ],
             [
              0.1111111111111111,
              "#46039f"
             ],
             [
              0.2222222222222222,
              "#7201a8"
             ],
             [
              0.3333333333333333,
              "#9c179e"
             ],
             [
              0.4444444444444444,
              "#bd3786"
             ],
             [
              0.5555555555555556,
              "#d8576b"
             ],
             [
              0.6666666666666666,
              "#ed7953"
             ],
             [
              0.7777777777777778,
              "#fb9f3a"
             ],
             [
              0.8888888888888888,
              "#fdca26"
             ],
             [
              1,
              "#f0f921"
             ]
            ],
            "type": "histogram2dcontour"
           }
          ],
          "mesh3d": [
           {
            "colorbar": {
             "outlinewidth": 0,
             "ticks": ""
            },
            "type": "mesh3d"
           }
          ],
          "parcoords": [
           {
            "line": {
             "colorbar": {
              "outlinewidth": 0,
              "ticks": ""
             }
            },
            "type": "parcoords"
           }
          ],
          "pie": [
           {
            "automargin": true,
            "type": "pie"
           }
          ],
          "scatter": [
           {
            "fillpattern": {
             "fillmode": "overlay",
             "size": 10,
             "solidity": 0.2
            },
            "type": "scatter"
           }
          ],
          "scatter3d": [
           {
            "line": {
             "colorbar": {
              "outlinewidth": 0,
              "ticks": ""
             }
            },
            "marker": {
             "colorbar": {
              "outlinewidth": 0,
              "ticks": ""
             }
            },
            "type": "scatter3d"
           }
          ],
          "scattercarpet": [
           {
            "marker": {
             "colorbar": {
              "outlinewidth": 0,
              "ticks": ""
             }
            },
            "type": "scattercarpet"
           }
          ],
          "scattergeo": [
           {
            "marker": {
             "colorbar": {
              "outlinewidth": 0,
              "ticks": ""
             }
            },
            "type": "scattergeo"
           }
          ],
          "scattergl": [
           {
            "marker": {
             "colorbar": {
              "outlinewidth": 0,
              "ticks": ""
             }
            },
            "type": "scattergl"
           }
          ],
          "scattermapbox": [
           {
            "marker": {
             "colorbar": {
              "outlinewidth": 0,
              "ticks": ""
             }
            },
            "type": "scattermapbox"
           }
          ],
          "scatterpolar": [
           {
            "marker": {
             "colorbar": {
              "outlinewidth": 0,
              "ticks": ""
             }
            },
            "type": "scatterpolar"
           }
          ],
          "scatterpolargl": [
           {
            "marker": {
             "colorbar": {
              "outlinewidth": 0,
              "ticks": ""
             }
            },
            "type": "scatterpolargl"
           }
          ],
          "scatterternary": [
           {
            "marker": {
             "colorbar": {
              "outlinewidth": 0,
              "ticks": ""
             }
            },
            "type": "scatterternary"
           }
          ],
          "surface": [
           {
            "colorbar": {
             "outlinewidth": 0,
             "ticks": ""
            },
            "colorscale": [
             [
              0,
              "#0d0887"
             ],
             [
              0.1111111111111111,
              "#46039f"
             ],
             [
              0.2222222222222222,
              "#7201a8"
             ],
             [
              0.3333333333333333,
              "#9c179e"
             ],
             [
              0.4444444444444444,
              "#bd3786"
             ],
             [
              0.5555555555555556,
              "#d8576b"
             ],
             [
              0.6666666666666666,
              "#ed7953"
             ],
             [
              0.7777777777777778,
              "#fb9f3a"
             ],
             [
              0.8888888888888888,
              "#fdca26"
             ],
             [
              1,
              "#f0f921"
             ]
            ],
            "type": "surface"
           }
          ],
          "table": [
           {
            "cells": {
             "fill": {
              "color": "#EBF0F8"
             },
             "line": {
              "color": "white"
             }
            },
            "header": {
             "fill": {
              "color": "#C8D4E3"
             },
             "line": {
              "color": "white"
             }
            },
            "type": "table"
           }
          ]
         },
         "layout": {
          "annotationdefaults": {
           "arrowcolor": "#2a3f5f",
           "arrowhead": 0,
           "arrowwidth": 1
          },
          "autotypenumbers": "strict",
          "coloraxis": {
           "colorbar": {
            "outlinewidth": 0,
            "ticks": ""
           }
          },
          "colorscale": {
           "diverging": [
            [
             0,
             "#8e0152"
            ],
            [
             0.1,
             "#c51b7d"
            ],
            [
             0.2,
             "#de77ae"
            ],
            [
             0.3,
             "#f1b6da"
            ],
            [
             0.4,
             "#fde0ef"
            ],
            [
             0.5,
             "#f7f7f7"
            ],
            [
             0.6,
             "#e6f5d0"
            ],
            [
             0.7,
             "#b8e186"
            ],
            [
             0.8,
             "#7fbc41"
            ],
            [
             0.9,
             "#4d9221"
            ],
            [
             1,
             "#276419"
            ]
           ],
           "sequential": [
            [
             0,
             "#0d0887"
            ],
            [
             0.1111111111111111,
             "#46039f"
            ],
            [
             0.2222222222222222,
             "#7201a8"
            ],
            [
             0.3333333333333333,
             "#9c179e"
            ],
            [
             0.4444444444444444,
             "#bd3786"
            ],
            [
             0.5555555555555556,
             "#d8576b"
            ],
            [
             0.6666666666666666,
             "#ed7953"
            ],
            [
             0.7777777777777778,
             "#fb9f3a"
            ],
            [
             0.8888888888888888,
             "#fdca26"
            ],
            [
             1,
             "#f0f921"
            ]
           ],
           "sequentialminus": [
            [
             0,
             "#0d0887"
            ],
            [
             0.1111111111111111,
             "#46039f"
            ],
            [
             0.2222222222222222,
             "#7201a8"
            ],
            [
             0.3333333333333333,
             "#9c179e"
            ],
            [
             0.4444444444444444,
             "#bd3786"
            ],
            [
             0.5555555555555556,
             "#d8576b"
            ],
            [
             0.6666666666666666,
             "#ed7953"
            ],
            [
             0.7777777777777778,
             "#fb9f3a"
            ],
            [
             0.8888888888888888,
             "#fdca26"
            ],
            [
             1,
             "#f0f921"
            ]
           ]
          },
          "colorway": [
           "#636efa",
           "#EF553B",
           "#00cc96",
           "#ab63fa",
           "#FFA15A",
           "#19d3f3",
           "#FF6692",
           "#B6E880",
           "#FF97FF",
           "#FECB52"
          ],
          "font": {
           "color": "#2a3f5f"
          },
          "geo": {
           "bgcolor": "white",
           "lakecolor": "white",
           "landcolor": "#E5ECF6",
           "showlakes": true,
           "showland": true,
           "subunitcolor": "white"
          },
          "hoverlabel": {
           "align": "left"
          },
          "hovermode": "closest",
          "mapbox": {
           "style": "light"
          },
          "paper_bgcolor": "white",
          "plot_bgcolor": "#E5ECF6",
          "polar": {
           "angularaxis": {
            "gridcolor": "white",
            "linecolor": "white",
            "ticks": ""
           },
           "bgcolor": "#E5ECF6",
           "radialaxis": {
            "gridcolor": "white",
            "linecolor": "white",
            "ticks": ""
           }
          },
          "scene": {
           "xaxis": {
            "backgroundcolor": "#E5ECF6",
            "gridcolor": "white",
            "gridwidth": 2,
            "linecolor": "white",
            "showbackground": true,
            "ticks": "",
            "zerolinecolor": "white"
           },
           "yaxis": {
            "backgroundcolor": "#E5ECF6",
            "gridcolor": "white",
            "gridwidth": 2,
            "linecolor": "white",
            "showbackground": true,
            "ticks": "",
            "zerolinecolor": "white"
           },
           "zaxis": {
            "backgroundcolor": "#E5ECF6",
            "gridcolor": "white",
            "gridwidth": 2,
            "linecolor": "white",
            "showbackground": true,
            "ticks": "",
            "zerolinecolor": "white"
           }
          },
          "shapedefaults": {
           "line": {
            "color": "#2a3f5f"
           }
          },
          "ternary": {
           "aaxis": {
            "gridcolor": "white",
            "linecolor": "white",
            "ticks": ""
           },
           "baxis": {
            "gridcolor": "white",
            "linecolor": "white",
            "ticks": ""
           },
           "bgcolor": "#E5ECF6",
           "caxis": {
            "gridcolor": "white",
            "linecolor": "white",
            "ticks": ""
           }
          },
          "title": {
           "x": 0.05
          },
          "xaxis": {
           "automargin": true,
           "gridcolor": "white",
           "linecolor": "white",
           "ticks": "",
           "title": {
            "standoff": 15
           },
           "zerolinecolor": "white",
           "zerolinewidth": 2
          },
          "yaxis": {
           "automargin": true,
           "gridcolor": "white",
           "linecolor": "white",
           "ticks": "",
           "title": {
            "standoff": 15
           },
           "zerolinecolor": "white",
           "zerolinewidth": 2
          }
         }
        },
        "title": {
         "text": "Interaction Claims by Source"
        },
        "xaxis": {
         "autorange": true,
         "range": [
          -0.5,
          20.5
         ],
         "tickangle": -45,
         "type": "category"
        },
        "yaxis": {
         "autorange": true,
         "range": [
          1.4121009234295814,
          4.534116936177851
         ],
         "title": {
          "text": "Count (log scale)"
         },
         "type": "log"
        }
       }
      },
      "text/html": [
       "<div>                            <div id=\"49d4d9bf-8d64-495b-a80c-6c4c1fa6aca4\" class=\"plotly-graph-div\" style=\"height:525px; width:100%;\"></div>            <script type=\"text/javascript\">                require([\"plotly\"], function(Plotly) {                    window.PLOTLYENV=window.PLOTLYENV || {};                                    if (document.getElementById(\"49d4d9bf-8d64-495b-a80c-6c4c1fa6aca4\")) {                    Plotly.newPlot(                        \"49d4d9bf-8d64-495b-a80c-6c4c1fa6aca4\",                        [{\"marker\":{\"color\":[]},\"name\":\"New sources\",\"x\":[],\"y\":[],\"type\":\"bar\"},{\"marker\":{\"color\":[\"#8075ff\",\"#8075ff\",\"#8075ff\"]},\"name\":\"Updated sources\",\"x\":[\"CIViC\",\"ChEMBL\",\"PharmGKB\"],\"y\":[1083,16938,5300],\"type\":\"bar\"},{\"marker\":{\"color\":[\"#480a77\",\"#480a77\",\"#480a77\",\"#480a77\",\"#480a77\",\"#480a77\",\"#480a77\",\"#480a77\",\"#480a77\",\"#480a77\",\"#480a77\",\"#480a77\",\"#480a77\",\"#480a77\",\"#480a77\",\"#480a77\",\"#480a77\",\"#480a77\"]},\"name\":\"Existing sources\",\"x\":[\"CGI\",\"COSMIC\",\"CancerCommons\",\"CF: Biomarkers\",\"CF: Clinical Trials\",\"DTC\",\"DoCM\",\"FDA\",\"GtoPdb\",\"JAX-CKB\",\"MCG\",\"MCG: Clinical Trials\",\"NCI\",\"OncoKB\",\"TALC\",\"TEND\",\"TTD\",\"TDG: Clinical Trials\"],\"y\":[368,37,109,163,240,23879,76,427,15653,1822,821,316,6231,148,602,2242,15245,5071],\"type\":\"bar\"}],                        {\"template\":{\"data\":{\"histogram2dcontour\":[{\"type\":\"histogram2dcontour\",\"colorbar\":{\"outlinewidth\":0,\"ticks\":\"\"},\"colorscale\":[[0.0,\"#0d0887\"],[0.1111111111111111,\"#46039f\"],[0.2222222222222222,\"#7201a8\"],[0.3333333333333333,\"#9c179e\"],[0.4444444444444444,\"#bd3786\"],[0.5555555555555556,\"#d8576b\"],[0.6666666666666666,\"#ed7953\"],[0.7777777777777778,\"#fb9f3a\"],[0.8888888888888888,\"#fdca26\"],[1.0,\"#f0f921\"]]}],\"choropleth\":[{\"type\":\"choropleth\",\"colorbar\":{\"outlinewidth\":0,\"ticks\":\"\"}}],\"histogram2d\":[{\"type\":\"histogram2d\",\"colorbar\":{\"outlinewidth\":0,\"ticks\":\"\"},\"colorscale\":[[0.0,\"#0d0887\"],[0.1111111111111111,\"#46039f\"],[0.2222222222222222,\"#7201a8\"],[0.3333333333333333,\"#9c179e\"],[0.4444444444444444,\"#bd3786\"],[0.5555555555555556,\"#d8576b\"],[0.6666666666666666,\"#ed7953\"],[0.7777777777777778,\"#fb9f3a\"],[0.8888888888888888,\"#fdca26\"],[1.0,\"#f0f921\"]]}],\"heatmap\":[{\"type\":\"heatmap\",\"colorbar\":{\"outlinewidth\":0,\"ticks\":\"\"},\"colorscale\":[[0.0,\"#0d0887\"],[0.1111111111111111,\"#46039f\"],[0.2222222222222222,\"#7201a8\"],[0.3333333333333333,\"#9c179e\"],[0.4444444444444444,\"#bd3786\"],[0.5555555555555556,\"#d8576b\"],[0.6666666666666666,\"#ed7953\"],[0.7777777777777778,\"#fb9f3a\"],[0.8888888888888888,\"#fdca26\"],[1.0,\"#f0f921\"]]}],\"heatmapgl\":[{\"type\":\"heatmapgl\",\"colorbar\":{\"outlinewidth\":0,\"ticks\":\"\"},\"colorscale\":[[0.0,\"#0d0887\"],[0.1111111111111111,\"#46039f\"],[0.2222222222222222,\"#7201a8\"],[0.3333333333333333,\"#9c179e\"],[0.4444444444444444,\"#bd3786\"],[0.5555555555555556,\"#d8576b\"],[0.6666666666666666,\"#ed7953\"],[0.7777777777777778,\"#fb9f3a\"],[0.8888888888888888,\"#fdca26\"],[1.0,\"#f0f921\"]]}],\"contourcarpet\":[{\"type\":\"contourcarpet\",\"colorbar\":{\"outlinewidth\":0,\"ticks\":\"\"}}],\"contour\":[{\"type\":\"contour\",\"colorbar\":{\"outlinewidth\":0,\"ticks\":\"\"},\"colorscale\":[[0.0,\"#0d0887\"],[0.1111111111111111,\"#46039f\"],[0.2222222222222222,\"#7201a8\"],[0.3333333333333333,\"#9c179e\"],[0.4444444444444444,\"#bd3786\"],[0.5555555555555556,\"#d8576b\"],[0.6666666666666666,\"#ed7953\"],[0.7777777777777778,\"#fb9f3a\"],[0.8888888888888888,\"#fdca26\"],[1.0,\"#f0f921\"]]}],\"surface\":[{\"type\":\"surface\",\"colorbar\":{\"outlinewidth\":0,\"ticks\":\"\"},\"colorscale\":[[0.0,\"#0d0887\"],[0.1111111111111111,\"#46039f\"],[0.2222222222222222,\"#7201a8\"],[0.3333333333333333,\"#9c179e\"],[0.4444444444444444,\"#bd3786\"],[0.5555555555555556,\"#d8576b\"],[0.6666666666666666,\"#ed7953\"],[0.7777777777777778,\"#fb9f3a\"],[0.8888888888888888,\"#fdca26\"],[1.0,\"#f0f921\"]]}],\"mesh3d\":[{\"type\":\"mesh3d\",\"colorbar\":{\"outlinewidth\":0,\"ticks\":\"\"}}],\"scatter\":[{\"fillpattern\":{\"fillmode\":\"overlay\",\"size\":10,\"solidity\":0.2},\"type\":\"scatter\"}],\"parcoords\":[{\"type\":\"parcoords\",\"line\":{\"colorbar\":{\"outlinewidth\":0,\"ticks\":\"\"}}}],\"scatterpolargl\":[{\"type\":\"scatterpolargl\",\"marker\":{\"colorbar\":{\"outlinewidth\":0,\"ticks\":\"\"}}}],\"bar\":[{\"error_x\":{\"color\":\"#2a3f5f\"},\"error_y\":{\"color\":\"#2a3f5f\"},\"marker\":{\"line\":{\"color\":\"#E5ECF6\",\"width\":0.5},\"pattern\":{\"fillmode\":\"overlay\",\"size\":10,\"solidity\":0.2}},\"type\":\"bar\"}],\"scattergeo\":[{\"type\":\"scattergeo\",\"marker\":{\"colorbar\":{\"outlinewidth\":0,\"ticks\":\"\"}}}],\"scatterpolar\":[{\"type\":\"scatterpolar\",\"marker\":{\"colorbar\":{\"outlinewidth\":0,\"ticks\":\"\"}}}],\"histogram\":[{\"marker\":{\"pattern\":{\"fillmode\":\"overlay\",\"size\":10,\"solidity\":0.2}},\"type\":\"histogram\"}],\"scattergl\":[{\"type\":\"scattergl\",\"marker\":{\"colorbar\":{\"outlinewidth\":0,\"ticks\":\"\"}}}],\"scatter3d\":[{\"type\":\"scatter3d\",\"line\":{\"colorbar\":{\"outlinewidth\":0,\"ticks\":\"\"}},\"marker\":{\"colorbar\":{\"outlinewidth\":0,\"ticks\":\"\"}}}],\"scattermapbox\":[{\"type\":\"scattermapbox\",\"marker\":{\"colorbar\":{\"outlinewidth\":0,\"ticks\":\"\"}}}],\"scatterternary\":[{\"type\":\"scatterternary\",\"marker\":{\"colorbar\":{\"outlinewidth\":0,\"ticks\":\"\"}}}],\"scattercarpet\":[{\"type\":\"scattercarpet\",\"marker\":{\"colorbar\":{\"outlinewidth\":0,\"ticks\":\"\"}}}],\"carpet\":[{\"aaxis\":{\"endlinecolor\":\"#2a3f5f\",\"gridcolor\":\"white\",\"linecolor\":\"white\",\"minorgridcolor\":\"white\",\"startlinecolor\":\"#2a3f5f\"},\"baxis\":{\"endlinecolor\":\"#2a3f5f\",\"gridcolor\":\"white\",\"linecolor\":\"white\",\"minorgridcolor\":\"white\",\"startlinecolor\":\"#2a3f5f\"},\"type\":\"carpet\"}],\"table\":[{\"cells\":{\"fill\":{\"color\":\"#EBF0F8\"},\"line\":{\"color\":\"white\"}},\"header\":{\"fill\":{\"color\":\"#C8D4E3\"},\"line\":{\"color\":\"white\"}},\"type\":\"table\"}],\"barpolar\":[{\"marker\":{\"line\":{\"color\":\"#E5ECF6\",\"width\":0.5},\"pattern\":{\"fillmode\":\"overlay\",\"size\":10,\"solidity\":0.2}},\"type\":\"barpolar\"}],\"pie\":[{\"automargin\":true,\"type\":\"pie\"}]},\"layout\":{\"autotypenumbers\":\"strict\",\"colorway\":[\"#636efa\",\"#EF553B\",\"#00cc96\",\"#ab63fa\",\"#FFA15A\",\"#19d3f3\",\"#FF6692\",\"#B6E880\",\"#FF97FF\",\"#FECB52\"],\"font\":{\"color\":\"#2a3f5f\"},\"hovermode\":\"closest\",\"hoverlabel\":{\"align\":\"left\"},\"paper_bgcolor\":\"white\",\"plot_bgcolor\":\"#E5ECF6\",\"polar\":{\"bgcolor\":\"#E5ECF6\",\"angularaxis\":{\"gridcolor\":\"white\",\"linecolor\":\"white\",\"ticks\":\"\"},\"radialaxis\":{\"gridcolor\":\"white\",\"linecolor\":\"white\",\"ticks\":\"\"}},\"ternary\":{\"bgcolor\":\"#E5ECF6\",\"aaxis\":{\"gridcolor\":\"white\",\"linecolor\":\"white\",\"ticks\":\"\"},\"baxis\":{\"gridcolor\":\"white\",\"linecolor\":\"white\",\"ticks\":\"\"},\"caxis\":{\"gridcolor\":\"white\",\"linecolor\":\"white\",\"ticks\":\"\"}},\"coloraxis\":{\"colorbar\":{\"outlinewidth\":0,\"ticks\":\"\"}},\"colorscale\":{\"sequential\":[[0.0,\"#0d0887\"],[0.1111111111111111,\"#46039f\"],[0.2222222222222222,\"#7201a8\"],[0.3333333333333333,\"#9c179e\"],[0.4444444444444444,\"#bd3786\"],[0.5555555555555556,\"#d8576b\"],[0.6666666666666666,\"#ed7953\"],[0.7777777777777778,\"#fb9f3a\"],[0.8888888888888888,\"#fdca26\"],[1.0,\"#f0f921\"]],\"sequentialminus\":[[0.0,\"#0d0887\"],[0.1111111111111111,\"#46039f\"],[0.2222222222222222,\"#7201a8\"],[0.3333333333333333,\"#9c179e\"],[0.4444444444444444,\"#bd3786\"],[0.5555555555555556,\"#d8576b\"],[0.6666666666666666,\"#ed7953\"],[0.7777777777777778,\"#fb9f3a\"],[0.8888888888888888,\"#fdca26\"],[1.0,\"#f0f921\"]],\"diverging\":[[0,\"#8e0152\"],[0.1,\"#c51b7d\"],[0.2,\"#de77ae\"],[0.3,\"#f1b6da\"],[0.4,\"#fde0ef\"],[0.5,\"#f7f7f7\"],[0.6,\"#e6f5d0\"],[0.7,\"#b8e186\"],[0.8,\"#7fbc41\"],[0.9,\"#4d9221\"],[1,\"#276419\"]]},\"xaxis\":{\"gridcolor\":\"white\",\"linecolor\":\"white\",\"ticks\":\"\",\"title\":{\"standoff\":15},\"zerolinecolor\":\"white\",\"automargin\":true,\"zerolinewidth\":2},\"yaxis\":{\"gridcolor\":\"white\",\"linecolor\":\"white\",\"ticks\":\"\",\"title\":{\"standoff\":15},\"zerolinecolor\":\"white\",\"automargin\":true,\"zerolinewidth\":2},\"scene\":{\"xaxis\":{\"backgroundcolor\":\"#E5ECF6\",\"gridcolor\":\"white\",\"linecolor\":\"white\",\"showbackground\":true,\"ticks\":\"\",\"zerolinecolor\":\"white\",\"gridwidth\":2},\"yaxis\":{\"backgroundcolor\":\"#E5ECF6\",\"gridcolor\":\"white\",\"linecolor\":\"white\",\"showbackground\":true,\"ticks\":\"\",\"zerolinecolor\":\"white\",\"gridwidth\":2},\"zaxis\":{\"backgroundcolor\":\"#E5ECF6\",\"gridcolor\":\"white\",\"linecolor\":\"white\",\"showbackground\":true,\"ticks\":\"\",\"zerolinecolor\":\"white\",\"gridwidth\":2}},\"shapedefaults\":{\"line\":{\"color\":\"#2a3f5f\"}},\"annotationdefaults\":{\"arrowcolor\":\"#2a3f5f\",\"arrowhead\":0,\"arrowwidth\":1},\"geo\":{\"bgcolor\":\"white\",\"landcolor\":\"#E5ECF6\",\"subunitcolor\":\"white\",\"showland\":true,\"showlakes\":true,\"lakecolor\":\"white\"},\"title\":{\"x\":0.05},\"mapbox\":{\"style\":\"light\"}}},\"title\":{\"text\":\"Interaction Claims by Source\"},\"xaxis\":{\"tickangle\":-45},\"yaxis\":{\"title\":{\"text\":\"Count (log scale)\"},\"type\":\"log\"}},                        {\"responsive\": true}                    ).then(function(){\n",
       "                            \n",
       "var gd = document.getElementById('49d4d9bf-8d64-495b-a80c-6c4c1fa6aca4');\n",
       "var x = new MutationObserver(function (mutations, observer) {{\n",
       "        var display = window.getComputedStyle(gd).display;\n",
       "        if (!display || display === 'none') {{\n",
       "            console.log([gd, 'removed!']);\n",
       "            Plotly.purge(gd);\n",
       "            observer.disconnect();\n",
       "        }}\n",
       "}});\n",
       "\n",
       "// Listen for the removal of the full notebook cells\n",
       "var notebookContainer = gd.closest('#notebook-container');\n",
       "if (notebookContainer) {{\n",
       "    x.observe(notebookContainer, {childList: true});\n",
       "}}\n",
       "\n",
       "// Listen for the clearing of the current output cell\n",
       "var outputEl = gd.closest('.output');\n",
       "if (outputEl) {{\n",
       "    x.observe(outputEl, {childList: true});\n",
       "}}\n",
       "\n",
       "                        })                };                });            </script>        </div>"
      ]
     },
     "metadata": {},
     "output_type": "display_data"
    }
   ],
   "source": [
    "def make_int_base():\n",
    "    new_sources = interaction_claims[interaction_claims[\"source type\"] == \"New\"]\n",
    "    existing_sources = interaction_claims[interaction_claims[\"source type\"] == \"Existing\"]\n",
    "    updated_sources = interaction_claims[interaction_claims[\"source type\"] == \"Updated\"]\n",
    "    fig = go.Figure()\n",
    "    fig.update_layout(title=\"Interaction Claims by Source\")\n",
    "    fig.add_trace(go.Bar(\n",
    "        x=new_sources[\"display names\"],\n",
    "        y=new_sources[\"v5\"],\n",
    "        name=\"New sources\",\n",
    "        marker_color=new_sources[\"source colors\"]\n",
    "    ))\n",
    "    fig.add_trace(go.Bar(\n",
    "        x=updated_sources[\"display names\"],\n",
    "        y=updated_sources[\"v5\"],\n",
    "        name=\"Updated sources\",\n",
    "        marker_color=updated_sources[\"source colors\"]\n",
    "    ))\n",
    "    fig.add_trace(go.Bar(\n",
    "        x=existing_sources[\"display names\"],\n",
    "        y=existing_sources[\"v5\"],\n",
    "        name=\"Existing sources\",\n",
    "        marker_color=existing_sources[\"source colors\"]\n",
    "    ))\n",
    "    fig.update_layout(xaxis_tickangle=-45, yaxis_title=\"Count (log scale)\")\n",
    "    fig.write_image(\"interactions.png\")\n",
    "    fig.update_yaxes(type=\"log\")\n",
    "    return fig\n",
    "    \n",
    "make_int_base()\n"
   ]
  },
  {
   "cell_type": "code",
   "execution_count": 24,
   "id": "747a0dfc-1cd9-446f-aa56-a71fc9e516ec",
   "metadata": {},
   "outputs": [
    {
     "data": {
      "application/vnd.plotly.v1+json": {
       "config": {
        "plotlyServerURL": "https://plot.ly"
       },
       "data": [
        {
         "marker": {
          "color": [
           "#fa198b"
          ]
         },
         "name": "New sources",
         "type": "bar",
         "x": [
          "HGNC"
         ],
         "y": [
          11272
         ]
        },
        {
         "marker": {
          "color": [
           "#8075ff",
           "#8075ff",
           "#8075ff",
           "#8075ff"
          ]
         },
         "name": "Updated sources",
         "type": "bar",
         "x": [
          "CIViC",
          "ChEMBL",
          "DrugBank",
          "PharmGKB"
         ],
         "y": [
          278,
          1779,
          3981,
          1448
         ]
        },
        {
         "marker": {
          "color": [
           "#480a77",
           "#480a77",
           "#480a77",
           "#480a77",
           "#480a77",
           "#480a77",
           "#480a77",
           "#480a77",
           "#480a77",
           "#480a77",
           "#480a77",
           "#480a77",
           "#480a77",
           "#480a77",
           "#480a77",
           "#480a77",
           "#480a77",
           "#480a77",
           "#480a77",
           "#480a77",
           "#480a77",
           "#480a77",
           "#480a77",
           "#480a77",
           "#480a77",
           "#480a77",
           "#480a77",
           "#480a77",
           "#480a77",
           "#480a77",
           "#480a77",
           "#480a77",
           "#480a77",
           "#480a77"
          ]
         },
         "name": "Existing sources",
         "type": "bar",
         "x": [
          "BaderLab",
          "CGI",
          "COSMIC",
          "CancerCommons",
          "CMI",
          "CF: Biomarkers",
          "CF: Clinical Trials",
          "DTC",
          "DoCM",
          "Ensembl",
          "FDA",
          "FO: Genes",
          "GO",
          "GtoPdb",
          "Hingorani/Casas",
          "Hopkins/Groom",
          "Human Protein Atlas",
          "IDG",
          "JAX-CKB",
          "MSK Impact",
          "MCG",
          "MCG: Clinical Trials",
          "NCBI Gene",
          "NCI",
          "OncoKB",
          "Oncomine",
          "Pharos",
          "Russ/Lampel",
          "TALC",
          "TEND",
          "TTD",
          "TDG: Clinical Trials",
          "Tempus",
          "dGene"
         ],
         "y": [
          48,
          123,
          15,
          48,
          608,
          34,
          93,
          1016,
          35,
          11204,
          89,
          664,
          3260,
          4376,
          4463,
          2676,
          1325,
          313,
          50,
          350,
          169,
          82,
          11301,
          1045,
          54,
          161,
          6038,
          3361,
          153,
          436,
          2040,
          1024,
          596,
          2257
         ]
        }
       ],
       "layout": {
        "autosize": true,
        "template": {
         "data": {
          "bar": [
           {
            "error_x": {
             "color": "#2a3f5f"
            },
            "error_y": {
             "color": "#2a3f5f"
            },
            "marker": {
             "line": {
              "color": "#E5ECF6",
              "width": 0.5
             },
             "pattern": {
              "fillmode": "overlay",
              "size": 10,
              "solidity": 0.2
             }
            },
            "type": "bar"
           }
          ],
          "barpolar": [
           {
            "marker": {
             "line": {
              "color": "#E5ECF6",
              "width": 0.5
             },
             "pattern": {
              "fillmode": "overlay",
              "size": 10,
              "solidity": 0.2
             }
            },
            "type": "barpolar"
           }
          ],
          "carpet": [
           {
            "aaxis": {
             "endlinecolor": "#2a3f5f",
             "gridcolor": "white",
             "linecolor": "white",
             "minorgridcolor": "white",
             "startlinecolor": "#2a3f5f"
            },
            "baxis": {
             "endlinecolor": "#2a3f5f",
             "gridcolor": "white",
             "linecolor": "white",
             "minorgridcolor": "white",
             "startlinecolor": "#2a3f5f"
            },
            "type": "carpet"
           }
          ],
          "choropleth": [
           {
            "colorbar": {
             "outlinewidth": 0,
             "ticks": ""
            },
            "type": "choropleth"
           }
          ],
          "contour": [
           {
            "colorbar": {
             "outlinewidth": 0,
             "ticks": ""
            },
            "colorscale": [
             [
              0,
              "#0d0887"
             ],
             [
              0.1111111111111111,
              "#46039f"
             ],
             [
              0.2222222222222222,
              "#7201a8"
             ],
             [
              0.3333333333333333,
              "#9c179e"
             ],
             [
              0.4444444444444444,
              "#bd3786"
             ],
             [
              0.5555555555555556,
              "#d8576b"
             ],
             [
              0.6666666666666666,
              "#ed7953"
             ],
             [
              0.7777777777777778,
              "#fb9f3a"
             ],
             [
              0.8888888888888888,
              "#fdca26"
             ],
             [
              1,
              "#f0f921"
             ]
            ],
            "type": "contour"
           }
          ],
          "contourcarpet": [
           {
            "colorbar": {
             "outlinewidth": 0,
             "ticks": ""
            },
            "type": "contourcarpet"
           }
          ],
          "heatmap": [
           {
            "colorbar": {
             "outlinewidth": 0,
             "ticks": ""
            },
            "colorscale": [
             [
              0,
              "#0d0887"
             ],
             [
              0.1111111111111111,
              "#46039f"
             ],
             [
              0.2222222222222222,
              "#7201a8"
             ],
             [
              0.3333333333333333,
              "#9c179e"
             ],
             [
              0.4444444444444444,
              "#bd3786"
             ],
             [
              0.5555555555555556,
              "#d8576b"
             ],
             [
              0.6666666666666666,
              "#ed7953"
             ],
             [
              0.7777777777777778,
              "#fb9f3a"
             ],
             [
              0.8888888888888888,
              "#fdca26"
             ],
             [
              1,
              "#f0f921"
             ]
            ],
            "type": "heatmap"
           }
          ],
          "heatmapgl": [
           {
            "colorbar": {
             "outlinewidth": 0,
             "ticks": ""
            },
            "colorscale": [
             [
              0,
              "#0d0887"
             ],
             [
              0.1111111111111111,
              "#46039f"
             ],
             [
              0.2222222222222222,
              "#7201a8"
             ],
             [
              0.3333333333333333,
              "#9c179e"
             ],
             [
              0.4444444444444444,
              "#bd3786"
             ],
             [
              0.5555555555555556,
              "#d8576b"
             ],
             [
              0.6666666666666666,
              "#ed7953"
             ],
             [
              0.7777777777777778,
              "#fb9f3a"
             ],
             [
              0.8888888888888888,
              "#fdca26"
             ],
             [
              1,
              "#f0f921"
             ]
            ],
            "type": "heatmapgl"
           }
          ],
          "histogram": [
           {
            "marker": {
             "pattern": {
              "fillmode": "overlay",
              "size": 10,
              "solidity": 0.2
             }
            },
            "type": "histogram"
           }
          ],
          "histogram2d": [
           {
            "colorbar": {
             "outlinewidth": 0,
             "ticks": ""
            },
            "colorscale": [
             [
              0,
              "#0d0887"
             ],
             [
              0.1111111111111111,
              "#46039f"
             ],
             [
              0.2222222222222222,
              "#7201a8"
             ],
             [
              0.3333333333333333,
              "#9c179e"
             ],
             [
              0.4444444444444444,
              "#bd3786"
             ],
             [
              0.5555555555555556,
              "#d8576b"
             ],
             [
              0.6666666666666666,
              "#ed7953"
             ],
             [
              0.7777777777777778,
              "#fb9f3a"
             ],
             [
              0.8888888888888888,
              "#fdca26"
             ],
             [
              1,
              "#f0f921"
             ]
            ],
            "type": "histogram2d"
           }
          ],
          "histogram2dcontour": [
           {
            "colorbar": {
             "outlinewidth": 0,
             "ticks": ""
            },
            "colorscale": [
             [
              0,
              "#0d0887"
             ],
             [
              0.1111111111111111,
              "#46039f"
             ],
             [
              0.2222222222222222,
              "#7201a8"
             ],
             [
              0.3333333333333333,
              "#9c179e"
             ],
             [
              0.4444444444444444,
              "#bd3786"
             ],
             [
              0.5555555555555556,
              "#d8576b"
             ],
             [
              0.6666666666666666,
              "#ed7953"
             ],
             [
              0.7777777777777778,
              "#fb9f3a"
             ],
             [
              0.8888888888888888,
              "#fdca26"
             ],
             [
              1,
              "#f0f921"
             ]
            ],
            "type": "histogram2dcontour"
           }
          ],
          "mesh3d": [
           {
            "colorbar": {
             "outlinewidth": 0,
             "ticks": ""
            },
            "type": "mesh3d"
           }
          ],
          "parcoords": [
           {
            "line": {
             "colorbar": {
              "outlinewidth": 0,
              "ticks": ""
             }
            },
            "type": "parcoords"
           }
          ],
          "pie": [
           {
            "automargin": true,
            "type": "pie"
           }
          ],
          "scatter": [
           {
            "fillpattern": {
             "fillmode": "overlay",
             "size": 10,
             "solidity": 0.2
            },
            "type": "scatter"
           }
          ],
          "scatter3d": [
           {
            "line": {
             "colorbar": {
              "outlinewidth": 0,
              "ticks": ""
             }
            },
            "marker": {
             "colorbar": {
              "outlinewidth": 0,
              "ticks": ""
             }
            },
            "type": "scatter3d"
           }
          ],
          "scattercarpet": [
           {
            "marker": {
             "colorbar": {
              "outlinewidth": 0,
              "ticks": ""
             }
            },
            "type": "scattercarpet"
           }
          ],
          "scattergeo": [
           {
            "marker": {
             "colorbar": {
              "outlinewidth": 0,
              "ticks": ""
             }
            },
            "type": "scattergeo"
           }
          ],
          "scattergl": [
           {
            "marker": {
             "colorbar": {
              "outlinewidth": 0,
              "ticks": ""
             }
            },
            "type": "scattergl"
           }
          ],
          "scattermapbox": [
           {
            "marker": {
             "colorbar": {
              "outlinewidth": 0,
              "ticks": ""
             }
            },
            "type": "scattermapbox"
           }
          ],
          "scatterpolar": [
           {
            "marker": {
             "colorbar": {
              "outlinewidth": 0,
              "ticks": ""
             }
            },
            "type": "scatterpolar"
           }
          ],
          "scatterpolargl": [
           {
            "marker": {
             "colorbar": {
              "outlinewidth": 0,
              "ticks": ""
             }
            },
            "type": "scatterpolargl"
           }
          ],
          "scatterternary": [
           {
            "marker": {
             "colorbar": {
              "outlinewidth": 0,
              "ticks": ""
             }
            },
            "type": "scatterternary"
           }
          ],
          "surface": [
           {
            "colorbar": {
             "outlinewidth": 0,
             "ticks": ""
            },
            "colorscale": [
             [
              0,
              "#0d0887"
             ],
             [
              0.1111111111111111,
              "#46039f"
             ],
             [
              0.2222222222222222,
              "#7201a8"
             ],
             [
              0.3333333333333333,
              "#9c179e"
             ],
             [
              0.4444444444444444,
              "#bd3786"
             ],
             [
              0.5555555555555556,
              "#d8576b"
             ],
             [
              0.6666666666666666,
              "#ed7953"
             ],
             [
              0.7777777777777778,
              "#fb9f3a"
             ],
             [
              0.8888888888888888,
              "#fdca26"
             ],
             [
              1,
              "#f0f921"
             ]
            ],
            "type": "surface"
           }
          ],
          "table": [
           {
            "cells": {
             "fill": {
              "color": "#EBF0F8"
             },
             "line": {
              "color": "white"
             }
            },
            "header": {
             "fill": {
              "color": "#C8D4E3"
             },
             "line": {
              "color": "white"
             }
            },
            "type": "table"
           }
          ]
         },
         "layout": {
          "annotationdefaults": {
           "arrowcolor": "#2a3f5f",
           "arrowhead": 0,
           "arrowwidth": 1
          },
          "autotypenumbers": "strict",
          "coloraxis": {
           "colorbar": {
            "outlinewidth": 0,
            "ticks": ""
           }
          },
          "colorscale": {
           "diverging": [
            [
             0,
             "#8e0152"
            ],
            [
             0.1,
             "#c51b7d"
            ],
            [
             0.2,
             "#de77ae"
            ],
            [
             0.3,
             "#f1b6da"
            ],
            [
             0.4,
             "#fde0ef"
            ],
            [
             0.5,
             "#f7f7f7"
            ],
            [
             0.6,
             "#e6f5d0"
            ],
            [
             0.7,
             "#b8e186"
            ],
            [
             0.8,
             "#7fbc41"
            ],
            [
             0.9,
             "#4d9221"
            ],
            [
             1,
             "#276419"
            ]
           ],
           "sequential": [
            [
             0,
             "#0d0887"
            ],
            [
             0.1111111111111111,
             "#46039f"
            ],
            [
             0.2222222222222222,
             "#7201a8"
            ],
            [
             0.3333333333333333,
             "#9c179e"
            ],
            [
             0.4444444444444444,
             "#bd3786"
            ],
            [
             0.5555555555555556,
             "#d8576b"
            ],
            [
             0.6666666666666666,
             "#ed7953"
            ],
            [
             0.7777777777777778,
             "#fb9f3a"
            ],
            [
             0.8888888888888888,
             "#fdca26"
            ],
            [
             1,
             "#f0f921"
            ]
           ],
           "sequentialminus": [
            [
             0,
             "#0d0887"
            ],
            [
             0.1111111111111111,
             "#46039f"
            ],
            [
             0.2222222222222222,
             "#7201a8"
            ],
            [
             0.3333333333333333,
             "#9c179e"
            ],
            [
             0.4444444444444444,
             "#bd3786"
            ],
            [
             0.5555555555555556,
             "#d8576b"
            ],
            [
             0.6666666666666666,
             "#ed7953"
            ],
            [
             0.7777777777777778,
             "#fb9f3a"
            ],
            [
             0.8888888888888888,
             "#fdca26"
            ],
            [
             1,
             "#f0f921"
            ]
           ]
          },
          "colorway": [
           "#636efa",
           "#EF553B",
           "#00cc96",
           "#ab63fa",
           "#FFA15A",
           "#19d3f3",
           "#FF6692",
           "#B6E880",
           "#FF97FF",
           "#FECB52"
          ],
          "font": {
           "color": "#2a3f5f"
          },
          "geo": {
           "bgcolor": "white",
           "lakecolor": "white",
           "landcolor": "#E5ECF6",
           "showlakes": true,
           "showland": true,
           "subunitcolor": "white"
          },
          "hoverlabel": {
           "align": "left"
          },
          "hovermode": "closest",
          "mapbox": {
           "style": "light"
          },
          "paper_bgcolor": "white",
          "plot_bgcolor": "#E5ECF6",
          "polar": {
           "angularaxis": {
            "gridcolor": "white",
            "linecolor": "white",
            "ticks": ""
           },
           "bgcolor": "#E5ECF6",
           "radialaxis": {
            "gridcolor": "white",
            "linecolor": "white",
            "ticks": ""
           }
          },
          "scene": {
           "xaxis": {
            "backgroundcolor": "#E5ECF6",
            "gridcolor": "white",
            "gridwidth": 2,
            "linecolor": "white",
            "showbackground": true,
            "ticks": "",
            "zerolinecolor": "white"
           },
           "yaxis": {
            "backgroundcolor": "#E5ECF6",
            "gridcolor": "white",
            "gridwidth": 2,
            "linecolor": "white",
            "showbackground": true,
            "ticks": "",
            "zerolinecolor": "white"
           },
           "zaxis": {
            "backgroundcolor": "#E5ECF6",
            "gridcolor": "white",
            "gridwidth": 2,
            "linecolor": "white",
            "showbackground": true,
            "ticks": "",
            "zerolinecolor": "white"
           }
          },
          "shapedefaults": {
           "line": {
            "color": "#2a3f5f"
           }
          },
          "ternary": {
           "aaxis": {
            "gridcolor": "white",
            "linecolor": "white",
            "ticks": ""
           },
           "baxis": {
            "gridcolor": "white",
            "linecolor": "white",
            "ticks": ""
           },
           "bgcolor": "#E5ECF6",
           "caxis": {
            "gridcolor": "white",
            "linecolor": "white",
            "ticks": ""
           }
          },
          "title": {
           "x": 0.05
          },
          "xaxis": {
           "automargin": true,
           "gridcolor": "white",
           "linecolor": "white",
           "ticks": "",
           "title": {
            "standoff": 15
           },
           "zerolinecolor": "white",
           "zerolinewidth": 2
          },
          "yaxis": {
           "automargin": true,
           "gridcolor": "white",
           "linecolor": "white",
           "ticks": "",
           "title": {
            "standoff": 15
           },
           "zerolinecolor": "white",
           "zerolinewidth": 2
          }
         }
        },
        "title": {
         "text": "Gene Claims by Source"
        },
        "xaxis": {
         "autorange": true,
         "range": [
          -0.5,
          38.5
         ],
         "tickangle": -45,
         "type": "category"
        },
        "yaxis": {
         "autorange": true,
         "range": [
          1.0162565026186117,
          4.212951631359999
         ],
         "title": {
          "text": "Count (log scale)"
         },
         "type": "log"
        }
       }
      },
      "text/html": [
       "<div>                            <div id=\"0dbb1e68-f9e4-442e-ae57-d377b9b906b6\" class=\"plotly-graph-div\" style=\"height:525px; width:100%;\"></div>            <script type=\"text/javascript\">                require([\"plotly\"], function(Plotly) {                    window.PLOTLYENV=window.PLOTLYENV || {};                                    if (document.getElementById(\"0dbb1e68-f9e4-442e-ae57-d377b9b906b6\")) {                    Plotly.newPlot(                        \"0dbb1e68-f9e4-442e-ae57-d377b9b906b6\",                        [{\"marker\":{\"color\":[\"#fa198b\"]},\"name\":\"New sources\",\"x\":[\"HGNC\"],\"y\":[11272],\"type\":\"bar\"},{\"marker\":{\"color\":[\"#8075ff\",\"#8075ff\",\"#8075ff\",\"#8075ff\"]},\"name\":\"Updated sources\",\"x\":[\"CIViC\",\"ChEMBL\",\"DrugBank\",\"PharmGKB\"],\"y\":[278,1779,3981,1448],\"type\":\"bar\"},{\"marker\":{\"color\":[\"#480a77\",\"#480a77\",\"#480a77\",\"#480a77\",\"#480a77\",\"#480a77\",\"#480a77\",\"#480a77\",\"#480a77\",\"#480a77\",\"#480a77\",\"#480a77\",\"#480a77\",\"#480a77\",\"#480a77\",\"#480a77\",\"#480a77\",\"#480a77\",\"#480a77\",\"#480a77\",\"#480a77\",\"#480a77\",\"#480a77\",\"#480a77\",\"#480a77\",\"#480a77\",\"#480a77\",\"#480a77\",\"#480a77\",\"#480a77\",\"#480a77\",\"#480a77\",\"#480a77\",\"#480a77\"]},\"name\":\"Existing sources\",\"x\":[\"BaderLab\",\"CGI\",\"COSMIC\",\"CancerCommons\",\"CMI\",\"CF: Biomarkers\",\"CF: Clinical Trials\",\"DTC\",\"DoCM\",\"Ensembl\",\"FDA\",\"FO: Genes\",\"GO\",\"GtoPdb\",\"Hingorani\\u002fCasas\",\"Hopkins\\u002fGroom\",\"Human Protein Atlas\",\"IDG\",\"JAX-CKB\",\"MSK Impact\",\"MCG\",\"MCG: Clinical Trials\",\"NCBI Gene\",\"NCI\",\"OncoKB\",\"Oncomine\",\"Pharos\",\"Russ\\u002fLampel\",\"TALC\",\"TEND\",\"TTD\",\"TDG: Clinical Trials\",\"Tempus\",\"dGene\"],\"y\":[48,123,15,48,608,34,93,1016,35,11204,89,664,3260,4376,4463,2676,1325,313,50,350,169,82,11301,1045,54,161,6038,3361,153,436,2040,1024,596,2257],\"type\":\"bar\"}],                        {\"template\":{\"data\":{\"histogram2dcontour\":[{\"type\":\"histogram2dcontour\",\"colorbar\":{\"outlinewidth\":0,\"ticks\":\"\"},\"colorscale\":[[0.0,\"#0d0887\"],[0.1111111111111111,\"#46039f\"],[0.2222222222222222,\"#7201a8\"],[0.3333333333333333,\"#9c179e\"],[0.4444444444444444,\"#bd3786\"],[0.5555555555555556,\"#d8576b\"],[0.6666666666666666,\"#ed7953\"],[0.7777777777777778,\"#fb9f3a\"],[0.8888888888888888,\"#fdca26\"],[1.0,\"#f0f921\"]]}],\"choropleth\":[{\"type\":\"choropleth\",\"colorbar\":{\"outlinewidth\":0,\"ticks\":\"\"}}],\"histogram2d\":[{\"type\":\"histogram2d\",\"colorbar\":{\"outlinewidth\":0,\"ticks\":\"\"},\"colorscale\":[[0.0,\"#0d0887\"],[0.1111111111111111,\"#46039f\"],[0.2222222222222222,\"#7201a8\"],[0.3333333333333333,\"#9c179e\"],[0.4444444444444444,\"#bd3786\"],[0.5555555555555556,\"#d8576b\"],[0.6666666666666666,\"#ed7953\"],[0.7777777777777778,\"#fb9f3a\"],[0.8888888888888888,\"#fdca26\"],[1.0,\"#f0f921\"]]}],\"heatmap\":[{\"type\":\"heatmap\",\"colorbar\":{\"outlinewidth\":0,\"ticks\":\"\"},\"colorscale\":[[0.0,\"#0d0887\"],[0.1111111111111111,\"#46039f\"],[0.2222222222222222,\"#7201a8\"],[0.3333333333333333,\"#9c179e\"],[0.4444444444444444,\"#bd3786\"],[0.5555555555555556,\"#d8576b\"],[0.6666666666666666,\"#ed7953\"],[0.7777777777777778,\"#fb9f3a\"],[0.8888888888888888,\"#fdca26\"],[1.0,\"#f0f921\"]]}],\"heatmapgl\":[{\"type\":\"heatmapgl\",\"colorbar\":{\"outlinewidth\":0,\"ticks\":\"\"},\"colorscale\":[[0.0,\"#0d0887\"],[0.1111111111111111,\"#46039f\"],[0.2222222222222222,\"#7201a8\"],[0.3333333333333333,\"#9c179e\"],[0.4444444444444444,\"#bd3786\"],[0.5555555555555556,\"#d8576b\"],[0.6666666666666666,\"#ed7953\"],[0.7777777777777778,\"#fb9f3a\"],[0.8888888888888888,\"#fdca26\"],[1.0,\"#f0f921\"]]}],\"contourcarpet\":[{\"type\":\"contourcarpet\",\"colorbar\":{\"outlinewidth\":0,\"ticks\":\"\"}}],\"contour\":[{\"type\":\"contour\",\"colorbar\":{\"outlinewidth\":0,\"ticks\":\"\"},\"colorscale\":[[0.0,\"#0d0887\"],[0.1111111111111111,\"#46039f\"],[0.2222222222222222,\"#7201a8\"],[0.3333333333333333,\"#9c179e\"],[0.4444444444444444,\"#bd3786\"],[0.5555555555555556,\"#d8576b\"],[0.6666666666666666,\"#ed7953\"],[0.7777777777777778,\"#fb9f3a\"],[0.8888888888888888,\"#fdca26\"],[1.0,\"#f0f921\"]]}],\"surface\":[{\"type\":\"surface\",\"colorbar\":{\"outlinewidth\":0,\"ticks\":\"\"},\"colorscale\":[[0.0,\"#0d0887\"],[0.1111111111111111,\"#46039f\"],[0.2222222222222222,\"#7201a8\"],[0.3333333333333333,\"#9c179e\"],[0.4444444444444444,\"#bd3786\"],[0.5555555555555556,\"#d8576b\"],[0.6666666666666666,\"#ed7953\"],[0.7777777777777778,\"#fb9f3a\"],[0.8888888888888888,\"#fdca26\"],[1.0,\"#f0f921\"]]}],\"mesh3d\":[{\"type\":\"mesh3d\",\"colorbar\":{\"outlinewidth\":0,\"ticks\":\"\"}}],\"scatter\":[{\"fillpattern\":{\"fillmode\":\"overlay\",\"size\":10,\"solidity\":0.2},\"type\":\"scatter\"}],\"parcoords\":[{\"type\":\"parcoords\",\"line\":{\"colorbar\":{\"outlinewidth\":0,\"ticks\":\"\"}}}],\"scatterpolargl\":[{\"type\":\"scatterpolargl\",\"marker\":{\"colorbar\":{\"outlinewidth\":0,\"ticks\":\"\"}}}],\"bar\":[{\"error_x\":{\"color\":\"#2a3f5f\"},\"error_y\":{\"color\":\"#2a3f5f\"},\"marker\":{\"line\":{\"color\":\"#E5ECF6\",\"width\":0.5},\"pattern\":{\"fillmode\":\"overlay\",\"size\":10,\"solidity\":0.2}},\"type\":\"bar\"}],\"scattergeo\":[{\"type\":\"scattergeo\",\"marker\":{\"colorbar\":{\"outlinewidth\":0,\"ticks\":\"\"}}}],\"scatterpolar\":[{\"type\":\"scatterpolar\",\"marker\":{\"colorbar\":{\"outlinewidth\":0,\"ticks\":\"\"}}}],\"histogram\":[{\"marker\":{\"pattern\":{\"fillmode\":\"overlay\",\"size\":10,\"solidity\":0.2}},\"type\":\"histogram\"}],\"scattergl\":[{\"type\":\"scattergl\",\"marker\":{\"colorbar\":{\"outlinewidth\":0,\"ticks\":\"\"}}}],\"scatter3d\":[{\"type\":\"scatter3d\",\"line\":{\"colorbar\":{\"outlinewidth\":0,\"ticks\":\"\"}},\"marker\":{\"colorbar\":{\"outlinewidth\":0,\"ticks\":\"\"}}}],\"scattermapbox\":[{\"type\":\"scattermapbox\",\"marker\":{\"colorbar\":{\"outlinewidth\":0,\"ticks\":\"\"}}}],\"scatterternary\":[{\"type\":\"scatterternary\",\"marker\":{\"colorbar\":{\"outlinewidth\":0,\"ticks\":\"\"}}}],\"scattercarpet\":[{\"type\":\"scattercarpet\",\"marker\":{\"colorbar\":{\"outlinewidth\":0,\"ticks\":\"\"}}}],\"carpet\":[{\"aaxis\":{\"endlinecolor\":\"#2a3f5f\",\"gridcolor\":\"white\",\"linecolor\":\"white\",\"minorgridcolor\":\"white\",\"startlinecolor\":\"#2a3f5f\"},\"baxis\":{\"endlinecolor\":\"#2a3f5f\",\"gridcolor\":\"white\",\"linecolor\":\"white\",\"minorgridcolor\":\"white\",\"startlinecolor\":\"#2a3f5f\"},\"type\":\"carpet\"}],\"table\":[{\"cells\":{\"fill\":{\"color\":\"#EBF0F8\"},\"line\":{\"color\":\"white\"}},\"header\":{\"fill\":{\"color\":\"#C8D4E3\"},\"line\":{\"color\":\"white\"}},\"type\":\"table\"}],\"barpolar\":[{\"marker\":{\"line\":{\"color\":\"#E5ECF6\",\"width\":0.5},\"pattern\":{\"fillmode\":\"overlay\",\"size\":10,\"solidity\":0.2}},\"type\":\"barpolar\"}],\"pie\":[{\"automargin\":true,\"type\":\"pie\"}]},\"layout\":{\"autotypenumbers\":\"strict\",\"colorway\":[\"#636efa\",\"#EF553B\",\"#00cc96\",\"#ab63fa\",\"#FFA15A\",\"#19d3f3\",\"#FF6692\",\"#B6E880\",\"#FF97FF\",\"#FECB52\"],\"font\":{\"color\":\"#2a3f5f\"},\"hovermode\":\"closest\",\"hoverlabel\":{\"align\":\"left\"},\"paper_bgcolor\":\"white\",\"plot_bgcolor\":\"#E5ECF6\",\"polar\":{\"bgcolor\":\"#E5ECF6\",\"angularaxis\":{\"gridcolor\":\"white\",\"linecolor\":\"white\",\"ticks\":\"\"},\"radialaxis\":{\"gridcolor\":\"white\",\"linecolor\":\"white\",\"ticks\":\"\"}},\"ternary\":{\"bgcolor\":\"#E5ECF6\",\"aaxis\":{\"gridcolor\":\"white\",\"linecolor\":\"white\",\"ticks\":\"\"},\"baxis\":{\"gridcolor\":\"white\",\"linecolor\":\"white\",\"ticks\":\"\"},\"caxis\":{\"gridcolor\":\"white\",\"linecolor\":\"white\",\"ticks\":\"\"}},\"coloraxis\":{\"colorbar\":{\"outlinewidth\":0,\"ticks\":\"\"}},\"colorscale\":{\"sequential\":[[0.0,\"#0d0887\"],[0.1111111111111111,\"#46039f\"],[0.2222222222222222,\"#7201a8\"],[0.3333333333333333,\"#9c179e\"],[0.4444444444444444,\"#bd3786\"],[0.5555555555555556,\"#d8576b\"],[0.6666666666666666,\"#ed7953\"],[0.7777777777777778,\"#fb9f3a\"],[0.8888888888888888,\"#fdca26\"],[1.0,\"#f0f921\"]],\"sequentialminus\":[[0.0,\"#0d0887\"],[0.1111111111111111,\"#46039f\"],[0.2222222222222222,\"#7201a8\"],[0.3333333333333333,\"#9c179e\"],[0.4444444444444444,\"#bd3786\"],[0.5555555555555556,\"#d8576b\"],[0.6666666666666666,\"#ed7953\"],[0.7777777777777778,\"#fb9f3a\"],[0.8888888888888888,\"#fdca26\"],[1.0,\"#f0f921\"]],\"diverging\":[[0,\"#8e0152\"],[0.1,\"#c51b7d\"],[0.2,\"#de77ae\"],[0.3,\"#f1b6da\"],[0.4,\"#fde0ef\"],[0.5,\"#f7f7f7\"],[0.6,\"#e6f5d0\"],[0.7,\"#b8e186\"],[0.8,\"#7fbc41\"],[0.9,\"#4d9221\"],[1,\"#276419\"]]},\"xaxis\":{\"gridcolor\":\"white\",\"linecolor\":\"white\",\"ticks\":\"\",\"title\":{\"standoff\":15},\"zerolinecolor\":\"white\",\"automargin\":true,\"zerolinewidth\":2},\"yaxis\":{\"gridcolor\":\"white\",\"linecolor\":\"white\",\"ticks\":\"\",\"title\":{\"standoff\":15},\"zerolinecolor\":\"white\",\"automargin\":true,\"zerolinewidth\":2},\"scene\":{\"xaxis\":{\"backgroundcolor\":\"#E5ECF6\",\"gridcolor\":\"white\",\"linecolor\":\"white\",\"showbackground\":true,\"ticks\":\"\",\"zerolinecolor\":\"white\",\"gridwidth\":2},\"yaxis\":{\"backgroundcolor\":\"#E5ECF6\",\"gridcolor\":\"white\",\"linecolor\":\"white\",\"showbackground\":true,\"ticks\":\"\",\"zerolinecolor\":\"white\",\"gridwidth\":2},\"zaxis\":{\"backgroundcolor\":\"#E5ECF6\",\"gridcolor\":\"white\",\"linecolor\":\"white\",\"showbackground\":true,\"ticks\":\"\",\"zerolinecolor\":\"white\",\"gridwidth\":2}},\"shapedefaults\":{\"line\":{\"color\":\"#2a3f5f\"}},\"annotationdefaults\":{\"arrowcolor\":\"#2a3f5f\",\"arrowhead\":0,\"arrowwidth\":1},\"geo\":{\"bgcolor\":\"white\",\"landcolor\":\"#E5ECF6\",\"subunitcolor\":\"white\",\"showland\":true,\"showlakes\":true,\"lakecolor\":\"white\"},\"title\":{\"x\":0.05},\"mapbox\":{\"style\":\"light\"}}},\"title\":{\"text\":\"Gene Claims by Source\"},\"xaxis\":{\"tickangle\":-45},\"yaxis\":{\"title\":{\"text\":\"Count (log scale)\"},\"type\":\"log\"}},                        {\"responsive\": true}                    ).then(function(){\n",
       "                            \n",
       "var gd = document.getElementById('0dbb1e68-f9e4-442e-ae57-d377b9b906b6');\n",
       "var x = new MutationObserver(function (mutations, observer) {{\n",
       "        var display = window.getComputedStyle(gd).display;\n",
       "        if (!display || display === 'none') {{\n",
       "            console.log([gd, 'removed!']);\n",
       "            Plotly.purge(gd);\n",
       "            observer.disconnect();\n",
       "        }}\n",
       "}});\n",
       "\n",
       "// Listen for the removal of the full notebook cells\n",
       "var notebookContainer = gd.closest('#notebook-container');\n",
       "if (notebookContainer) {{\n",
       "    x.observe(notebookContainer, {childList: true});\n",
       "}}\n",
       "\n",
       "// Listen for the clearing of the current output cell\n",
       "var outputEl = gd.closest('.output');\n",
       "if (outputEl) {{\n",
       "    x.observe(outputEl, {childList: true});\n",
       "}}\n",
       "\n",
       "                        })                };                });            </script>        </div>"
      ]
     },
     "metadata": {},
     "output_type": "display_data"
    }
   ],
   "source": [
    "def make_gene_base():\n",
    "    new_sources = gene_claims[gene_claims[\"source type\"] == \"New\"]\n",
    "    existing_sources = gene_claims[gene_claims[\"source type\"] == \"Existing\"]\n",
    "    updated_sources = gene_claims[gene_claims[\"source type\"] == \"Updated\"]\n",
    "    fig = go.Figure()\n",
    "    fig.update_layout(title=\"Gene Claims by Source\")\n",
    "    fig.add_trace(go.Bar(\n",
    "        x=new_sources[\"display names\"],\n",
    "        y=new_sources[\"v5\"],\n",
    "        name=\"New sources\",\n",
    "        marker_color=new_sources[\"source colors\"]\n",
    "    ))\n",
    "    fig.add_trace(go.Bar(\n",
    "        x=updated_sources[\"display names\"],\n",
    "        y=updated_sources[\"v5\"],\n",
    "        name=\"Updated sources\",\n",
    "        marker_color=updated_sources[\"source colors\"]\n",
    "    ))\n",
    "    fig.add_trace(go.Bar(\n",
    "        x=existing_sources[\"display names\"],\n",
    "        y=existing_sources[\"v5\"],\n",
    "        name=\"Existing sources\",\n",
    "        marker_color=existing_sources[\"source colors\"]\n",
    "    ))\n",
    "    fig.update_layout(xaxis_tickangle=-45, yaxis_title=\"Count (log scale)\")\n",
    "    fig.update_yaxes(type=\"log\")\n",
    "    fig.write_image(\"genes.png\")\n",
    "    return fig\n",
    "    \n",
    "make_gene_base()\n"
   ]
  },
  {
   "cell_type": "code",
   "execution_count": 23,
   "id": "c5af5b70-2e4f-4768-b278-f9e6ec2fda9e",
   "metadata": {},
   "outputs": [
    {
     "data": {
      "application/vnd.plotly.v1+json": {
       "config": {
        "plotlyServerURL": "https://plot.ly"
       },
       "data": [
        {
         "marker": {
          "color": [
           "#fa198b",
           "#fa198b",
           "#fa198b"
          ]
         },
         "name": "New sources",
         "type": "bar",
         "x": [
          "ChemIDplus",
          "Drugs@FDA",
          "NCIt"
         ],
         "y": [
          5879,
          9233,
          7028
         ]
        },
        {
         "marker": {
          "color": [
           "#8075ff",
           "#8075ff",
           "#8075ff",
           "#8075ff",
           "#8075ff"
          ]
         },
         "name": "Updated sources",
         "type": "bar",
         "x": [
          "CIViC",
          "ChEMBL",
          "DrugBank",
          "PharmGKB",
          "Wikidata"
         ],
         "y": [
          416,
          5659,
          7546,
          1177,
          2634
         ]
        },
        {
         "marker": {
          "color": [
           "#480a77",
           "#480a77",
           "#480a77",
           "#480a77",
           "#480a77",
           "#480a77",
           "#480a77",
           "#480a77",
           "#480a77",
           "#480a77",
           "#480a77",
           "#480a77",
           "#480a77",
           "#480a77",
           "#480a77",
           "#480a77",
           "#480a77",
           "#480a77",
           "#480a77",
           "#480a77"
          ]
         },
         "name": "Existing sources",
         "type": "bar",
         "x": [
          "CGI",
          "COSMIC",
          "CancerCommons",
          "CF: Biomarkers",
          "CF: Clinical Trials",
          "DTC",
          "DoCM",
          "FDA",
          "GtoPdb",
          "HemOnc.org",
          "JAX-CKB",
          "MCG",
          "MCG: Clinical Trials",
          "NCI",
          "OncoKB",
          "RxNorm",
          "TALC",
          "TEND",
          "TTD",
          "TDG: Clinical Trials"
         ],
         "y": [
          148,
          28,
          80,
          64,
          114,
          6290,
          39,
          289,
          8271,
          488,
          741,
          226,
          82,
          1519,
          89,
          4544,
          285,
          988,
          12410,
          2425
         ]
        }
       ],
       "layout": {
        "autosize": true,
        "template": {
         "data": {
          "bar": [
           {
            "error_x": {
             "color": "#2a3f5f"
            },
            "error_y": {
             "color": "#2a3f5f"
            },
            "marker": {
             "line": {
              "color": "#E5ECF6",
              "width": 0.5
             },
             "pattern": {
              "fillmode": "overlay",
              "size": 10,
              "solidity": 0.2
             }
            },
            "type": "bar"
           }
          ],
          "barpolar": [
           {
            "marker": {
             "line": {
              "color": "#E5ECF6",
              "width": 0.5
             },
             "pattern": {
              "fillmode": "overlay",
              "size": 10,
              "solidity": 0.2
             }
            },
            "type": "barpolar"
           }
          ],
          "carpet": [
           {
            "aaxis": {
             "endlinecolor": "#2a3f5f",
             "gridcolor": "white",
             "linecolor": "white",
             "minorgridcolor": "white",
             "startlinecolor": "#2a3f5f"
            },
            "baxis": {
             "endlinecolor": "#2a3f5f",
             "gridcolor": "white",
             "linecolor": "white",
             "minorgridcolor": "white",
             "startlinecolor": "#2a3f5f"
            },
            "type": "carpet"
           }
          ],
          "choropleth": [
           {
            "colorbar": {
             "outlinewidth": 0,
             "ticks": ""
            },
            "type": "choropleth"
           }
          ],
          "contour": [
           {
            "colorbar": {
             "outlinewidth": 0,
             "ticks": ""
            },
            "colorscale": [
             [
              0,
              "#0d0887"
             ],
             [
              0.1111111111111111,
              "#46039f"
             ],
             [
              0.2222222222222222,
              "#7201a8"
             ],
             [
              0.3333333333333333,
              "#9c179e"
             ],
             [
              0.4444444444444444,
              "#bd3786"
             ],
             [
              0.5555555555555556,
              "#d8576b"
             ],
             [
              0.6666666666666666,
              "#ed7953"
             ],
             [
              0.7777777777777778,
              "#fb9f3a"
             ],
             [
              0.8888888888888888,
              "#fdca26"
             ],
             [
              1,
              "#f0f921"
             ]
            ],
            "type": "contour"
           }
          ],
          "contourcarpet": [
           {
            "colorbar": {
             "outlinewidth": 0,
             "ticks": ""
            },
            "type": "contourcarpet"
           }
          ],
          "heatmap": [
           {
            "colorbar": {
             "outlinewidth": 0,
             "ticks": ""
            },
            "colorscale": [
             [
              0,
              "#0d0887"
             ],
             [
              0.1111111111111111,
              "#46039f"
             ],
             [
              0.2222222222222222,
              "#7201a8"
             ],
             [
              0.3333333333333333,
              "#9c179e"
             ],
             [
              0.4444444444444444,
              "#bd3786"
             ],
             [
              0.5555555555555556,
              "#d8576b"
             ],
             [
              0.6666666666666666,
              "#ed7953"
             ],
             [
              0.7777777777777778,
              "#fb9f3a"
             ],
             [
              0.8888888888888888,
              "#fdca26"
             ],
             [
              1,
              "#f0f921"
             ]
            ],
            "type": "heatmap"
           }
          ],
          "heatmapgl": [
           {
            "colorbar": {
             "outlinewidth": 0,
             "ticks": ""
            },
            "colorscale": [
             [
              0,
              "#0d0887"
             ],
             [
              0.1111111111111111,
              "#46039f"
             ],
             [
              0.2222222222222222,
              "#7201a8"
             ],
             [
              0.3333333333333333,
              "#9c179e"
             ],
             [
              0.4444444444444444,
              "#bd3786"
             ],
             [
              0.5555555555555556,
              "#d8576b"
             ],
             [
              0.6666666666666666,
              "#ed7953"
             ],
             [
              0.7777777777777778,
              "#fb9f3a"
             ],
             [
              0.8888888888888888,
              "#fdca26"
             ],
             [
              1,
              "#f0f921"
             ]
            ],
            "type": "heatmapgl"
           }
          ],
          "histogram": [
           {
            "marker": {
             "pattern": {
              "fillmode": "overlay",
              "size": 10,
              "solidity": 0.2
             }
            },
            "type": "histogram"
           }
          ],
          "histogram2d": [
           {
            "colorbar": {
             "outlinewidth": 0,
             "ticks": ""
            },
            "colorscale": [
             [
              0,
              "#0d0887"
             ],
             [
              0.1111111111111111,
              "#46039f"
             ],
             [
              0.2222222222222222,
              "#7201a8"
             ],
             [
              0.3333333333333333,
              "#9c179e"
             ],
             [
              0.4444444444444444,
              "#bd3786"
             ],
             [
              0.5555555555555556,
              "#d8576b"
             ],
             [
              0.6666666666666666,
              "#ed7953"
             ],
             [
              0.7777777777777778,
              "#fb9f3a"
             ],
             [
              0.8888888888888888,
              "#fdca26"
             ],
             [
              1,
              "#f0f921"
             ]
            ],
            "type": "histogram2d"
           }
          ],
          "histogram2dcontour": [
           {
            "colorbar": {
             "outlinewidth": 0,
             "ticks": ""
            },
            "colorscale": [
             [
              0,
              "#0d0887"
             ],
             [
              0.1111111111111111,
              "#46039f"
             ],
             [
              0.2222222222222222,
              "#7201a8"
             ],
             [
              0.3333333333333333,
              "#9c179e"
             ],
             [
              0.4444444444444444,
              "#bd3786"
             ],
             [
              0.5555555555555556,
              "#d8576b"
             ],
             [
              0.6666666666666666,
              "#ed7953"
             ],
             [
              0.7777777777777778,
              "#fb9f3a"
             ],
             [
              0.8888888888888888,
              "#fdca26"
             ],
             [
              1,
              "#f0f921"
             ]
            ],
            "type": "histogram2dcontour"
           }
          ],
          "mesh3d": [
           {
            "colorbar": {
             "outlinewidth": 0,
             "ticks": ""
            },
            "type": "mesh3d"
           }
          ],
          "parcoords": [
           {
            "line": {
             "colorbar": {
              "outlinewidth": 0,
              "ticks": ""
             }
            },
            "type": "parcoords"
           }
          ],
          "pie": [
           {
            "automargin": true,
            "type": "pie"
           }
          ],
          "scatter": [
           {
            "fillpattern": {
             "fillmode": "overlay",
             "size": 10,
             "solidity": 0.2
            },
            "type": "scatter"
           }
          ],
          "scatter3d": [
           {
            "line": {
             "colorbar": {
              "outlinewidth": 0,
              "ticks": ""
             }
            },
            "marker": {
             "colorbar": {
              "outlinewidth": 0,
              "ticks": ""
             }
            },
            "type": "scatter3d"
           }
          ],
          "scattercarpet": [
           {
            "marker": {
             "colorbar": {
              "outlinewidth": 0,
              "ticks": ""
             }
            },
            "type": "scattercarpet"
           }
          ],
          "scattergeo": [
           {
            "marker": {
             "colorbar": {
              "outlinewidth": 0,
              "ticks": ""
             }
            },
            "type": "scattergeo"
           }
          ],
          "scattergl": [
           {
            "marker": {
             "colorbar": {
              "outlinewidth": 0,
              "ticks": ""
             }
            },
            "type": "scattergl"
           }
          ],
          "scattermapbox": [
           {
            "marker": {
             "colorbar": {
              "outlinewidth": 0,
              "ticks": ""
             }
            },
            "type": "scattermapbox"
           }
          ],
          "scatterpolar": [
           {
            "marker": {
             "colorbar": {
              "outlinewidth": 0,
              "ticks": ""
             }
            },
            "type": "scatterpolar"
           }
          ],
          "scatterpolargl": [
           {
            "marker": {
             "colorbar": {
              "outlinewidth": 0,
              "ticks": ""
             }
            },
            "type": "scatterpolargl"
           }
          ],
          "scatterternary": [
           {
            "marker": {
             "colorbar": {
              "outlinewidth": 0,
              "ticks": ""
             }
            },
            "type": "scatterternary"
           }
          ],
          "surface": [
           {
            "colorbar": {
             "outlinewidth": 0,
             "ticks": ""
            },
            "colorscale": [
             [
              0,
              "#0d0887"
             ],
             [
              0.1111111111111111,
              "#46039f"
             ],
             [
              0.2222222222222222,
              "#7201a8"
             ],
             [
              0.3333333333333333,
              "#9c179e"
             ],
             [
              0.4444444444444444,
              "#bd3786"
             ],
             [
              0.5555555555555556,
              "#d8576b"
             ],
             [
              0.6666666666666666,
              "#ed7953"
             ],
             [
              0.7777777777777778,
              "#fb9f3a"
             ],
             [
              0.8888888888888888,
              "#fdca26"
             ],
             [
              1,
              "#f0f921"
             ]
            ],
            "type": "surface"
           }
          ],
          "table": [
           {
            "cells": {
             "fill": {
              "color": "#EBF0F8"
             },
             "line": {
              "color": "white"
             }
            },
            "header": {
             "fill": {
              "color": "#C8D4E3"
             },
             "line": {
              "color": "white"
             }
            },
            "type": "table"
           }
          ]
         },
         "layout": {
          "annotationdefaults": {
           "arrowcolor": "#2a3f5f",
           "arrowhead": 0,
           "arrowwidth": 1
          },
          "autotypenumbers": "strict",
          "coloraxis": {
           "colorbar": {
            "outlinewidth": 0,
            "ticks": ""
           }
          },
          "colorscale": {
           "diverging": [
            [
             0,
             "#8e0152"
            ],
            [
             0.1,
             "#c51b7d"
            ],
            [
             0.2,
             "#de77ae"
            ],
            [
             0.3,
             "#f1b6da"
            ],
            [
             0.4,
             "#fde0ef"
            ],
            [
             0.5,
             "#f7f7f7"
            ],
            [
             0.6,
             "#e6f5d0"
            ],
            [
             0.7,
             "#b8e186"
            ],
            [
             0.8,
             "#7fbc41"
            ],
            [
             0.9,
             "#4d9221"
            ],
            [
             1,
             "#276419"
            ]
           ],
           "sequential": [
            [
             0,
             "#0d0887"
            ],
            [
             0.1111111111111111,
             "#46039f"
            ],
            [
             0.2222222222222222,
             "#7201a8"
            ],
            [
             0.3333333333333333,
             "#9c179e"
            ],
            [
             0.4444444444444444,
             "#bd3786"
            ],
            [
             0.5555555555555556,
             "#d8576b"
            ],
            [
             0.6666666666666666,
             "#ed7953"
            ],
            [
             0.7777777777777778,
             "#fb9f3a"
            ],
            [
             0.8888888888888888,
             "#fdca26"
            ],
            [
             1,
             "#f0f921"
            ]
           ],
           "sequentialminus": [
            [
             0,
             "#0d0887"
            ],
            [
             0.1111111111111111,
             "#46039f"
            ],
            [
             0.2222222222222222,
             "#7201a8"
            ],
            [
             0.3333333333333333,
             "#9c179e"
            ],
            [
             0.4444444444444444,
             "#bd3786"
            ],
            [
             0.5555555555555556,
             "#d8576b"
            ],
            [
             0.6666666666666666,
             "#ed7953"
            ],
            [
             0.7777777777777778,
             "#fb9f3a"
            ],
            [
             0.8888888888888888,
             "#fdca26"
            ],
            [
             1,
             "#f0f921"
            ]
           ]
          },
          "colorway": [
           "#636efa",
           "#EF553B",
           "#00cc96",
           "#ab63fa",
           "#FFA15A",
           "#19d3f3",
           "#FF6692",
           "#B6E880",
           "#FF97FF",
           "#FECB52"
          ],
          "font": {
           "color": "#2a3f5f"
          },
          "geo": {
           "bgcolor": "white",
           "lakecolor": "white",
           "landcolor": "#E5ECF6",
           "showlakes": true,
           "showland": true,
           "subunitcolor": "white"
          },
          "hoverlabel": {
           "align": "left"
          },
          "hovermode": "closest",
          "mapbox": {
           "style": "light"
          },
          "paper_bgcolor": "white",
          "plot_bgcolor": "#E5ECF6",
          "polar": {
           "angularaxis": {
            "gridcolor": "white",
            "linecolor": "white",
            "ticks": ""
           },
           "bgcolor": "#E5ECF6",
           "radialaxis": {
            "gridcolor": "white",
            "linecolor": "white",
            "ticks": ""
           }
          },
          "scene": {
           "xaxis": {
            "backgroundcolor": "#E5ECF6",
            "gridcolor": "white",
            "gridwidth": 2,
            "linecolor": "white",
            "showbackground": true,
            "ticks": "",
            "zerolinecolor": "white"
           },
           "yaxis": {
            "backgroundcolor": "#E5ECF6",
            "gridcolor": "white",
            "gridwidth": 2,
            "linecolor": "white",
            "showbackground": true,
            "ticks": "",
            "zerolinecolor": "white"
           },
           "zaxis": {
            "backgroundcolor": "#E5ECF6",
            "gridcolor": "white",
            "gridwidth": 2,
            "linecolor": "white",
            "showbackground": true,
            "ticks": "",
            "zerolinecolor": "white"
           }
          },
          "shapedefaults": {
           "line": {
            "color": "#2a3f5f"
           }
          },
          "ternary": {
           "aaxis": {
            "gridcolor": "white",
            "linecolor": "white",
            "ticks": ""
           },
           "baxis": {
            "gridcolor": "white",
            "linecolor": "white",
            "ticks": ""
           },
           "bgcolor": "#E5ECF6",
           "caxis": {
            "gridcolor": "white",
            "linecolor": "white",
            "ticks": ""
           }
          },
          "title": {
           "x": 0.05
          },
          "xaxis": {
           "automargin": true,
           "gridcolor": "white",
           "linecolor": "white",
           "ticks": "",
           "title": {
            "standoff": 15
           },
           "zerolinecolor": "white",
           "zerolinewidth": 2
          },
          "yaxis": {
           "automargin": true,
           "gridcolor": "white",
           "linecolor": "white",
           "ticks": "",
           "title": {
            "standoff": 15
           },
           "zerolinecolor": "white",
           "zerolinewidth": 2
          }
         }
        },
        "title": {
         "text": "Drug Claims by Source"
        },
        "xaxis": {
         "autorange": true,
         "range": [
          -0.5,
          27.5
         ],
         "tickangle": -45,
         "type": "category"
        },
        "yaxis": {
         "autorange": true,
         "range": [
          1.3001239341113018,
          4.240805878729646
         ],
         "title": {
          "text": "Count (log scale)"
         },
         "type": "log"
        }
       }
      },
      "text/html": [
       "<div>                            <div id=\"4431699a-8360-4005-9918-e1f85bef650a\" class=\"plotly-graph-div\" style=\"height:525px; width:100%;\"></div>            <script type=\"text/javascript\">                require([\"plotly\"], function(Plotly) {                    window.PLOTLYENV=window.PLOTLYENV || {};                                    if (document.getElementById(\"4431699a-8360-4005-9918-e1f85bef650a\")) {                    Plotly.newPlot(                        \"4431699a-8360-4005-9918-e1f85bef650a\",                        [{\"marker\":{\"color\":[\"#fa198b\",\"#fa198b\",\"#fa198b\"]},\"name\":\"New sources\",\"x\":[\"ChemIDplus\",\"Drugs@FDA\",\"NCIt\"],\"y\":[5879,9233,7028],\"type\":\"bar\"},{\"marker\":{\"color\":[\"#8075ff\",\"#8075ff\",\"#8075ff\",\"#8075ff\",\"#8075ff\"]},\"name\":\"Updated sources\",\"x\":[\"CIViC\",\"ChEMBL\",\"DrugBank\",\"PharmGKB\",\"Wikidata\"],\"y\":[416,5659,7546,1177,2634],\"type\":\"bar\"},{\"marker\":{\"color\":[\"#480a77\",\"#480a77\",\"#480a77\",\"#480a77\",\"#480a77\",\"#480a77\",\"#480a77\",\"#480a77\",\"#480a77\",\"#480a77\",\"#480a77\",\"#480a77\",\"#480a77\",\"#480a77\",\"#480a77\",\"#480a77\",\"#480a77\",\"#480a77\",\"#480a77\",\"#480a77\"]},\"name\":\"Existing sources\",\"x\":[\"CGI\",\"COSMIC\",\"CancerCommons\",\"CF: Biomarkers\",\"CF: Clinical Trials\",\"DTC\",\"DoCM\",\"FDA\",\"GtoPdb\",\"HemOnc.org\",\"JAX-CKB\",\"MCG\",\"MCG: Clinical Trials\",\"NCI\",\"OncoKB\",\"RxNorm\",\"TALC\",\"TEND\",\"TTD\",\"TDG: Clinical Trials\"],\"y\":[148,28,80,64,114,6290,39,289,8271,488,741,226,82,1519,89,4544,285,988,12410,2425],\"type\":\"bar\"}],                        {\"template\":{\"data\":{\"histogram2dcontour\":[{\"type\":\"histogram2dcontour\",\"colorbar\":{\"outlinewidth\":0,\"ticks\":\"\"},\"colorscale\":[[0.0,\"#0d0887\"],[0.1111111111111111,\"#46039f\"],[0.2222222222222222,\"#7201a8\"],[0.3333333333333333,\"#9c179e\"],[0.4444444444444444,\"#bd3786\"],[0.5555555555555556,\"#d8576b\"],[0.6666666666666666,\"#ed7953\"],[0.7777777777777778,\"#fb9f3a\"],[0.8888888888888888,\"#fdca26\"],[1.0,\"#f0f921\"]]}],\"choropleth\":[{\"type\":\"choropleth\",\"colorbar\":{\"outlinewidth\":0,\"ticks\":\"\"}}],\"histogram2d\":[{\"type\":\"histogram2d\",\"colorbar\":{\"outlinewidth\":0,\"ticks\":\"\"},\"colorscale\":[[0.0,\"#0d0887\"],[0.1111111111111111,\"#46039f\"],[0.2222222222222222,\"#7201a8\"],[0.3333333333333333,\"#9c179e\"],[0.4444444444444444,\"#bd3786\"],[0.5555555555555556,\"#d8576b\"],[0.6666666666666666,\"#ed7953\"],[0.7777777777777778,\"#fb9f3a\"],[0.8888888888888888,\"#fdca26\"],[1.0,\"#f0f921\"]]}],\"heatmap\":[{\"type\":\"heatmap\",\"colorbar\":{\"outlinewidth\":0,\"ticks\":\"\"},\"colorscale\":[[0.0,\"#0d0887\"],[0.1111111111111111,\"#46039f\"],[0.2222222222222222,\"#7201a8\"],[0.3333333333333333,\"#9c179e\"],[0.4444444444444444,\"#bd3786\"],[0.5555555555555556,\"#d8576b\"],[0.6666666666666666,\"#ed7953\"],[0.7777777777777778,\"#fb9f3a\"],[0.8888888888888888,\"#fdca26\"],[1.0,\"#f0f921\"]]}],\"heatmapgl\":[{\"type\":\"heatmapgl\",\"colorbar\":{\"outlinewidth\":0,\"ticks\":\"\"},\"colorscale\":[[0.0,\"#0d0887\"],[0.1111111111111111,\"#46039f\"],[0.2222222222222222,\"#7201a8\"],[0.3333333333333333,\"#9c179e\"],[0.4444444444444444,\"#bd3786\"],[0.5555555555555556,\"#d8576b\"],[0.6666666666666666,\"#ed7953\"],[0.7777777777777778,\"#fb9f3a\"],[0.8888888888888888,\"#fdca26\"],[1.0,\"#f0f921\"]]}],\"contourcarpet\":[{\"type\":\"contourcarpet\",\"colorbar\":{\"outlinewidth\":0,\"ticks\":\"\"}}],\"contour\":[{\"type\":\"contour\",\"colorbar\":{\"outlinewidth\":0,\"ticks\":\"\"},\"colorscale\":[[0.0,\"#0d0887\"],[0.1111111111111111,\"#46039f\"],[0.2222222222222222,\"#7201a8\"],[0.3333333333333333,\"#9c179e\"],[0.4444444444444444,\"#bd3786\"],[0.5555555555555556,\"#d8576b\"],[0.6666666666666666,\"#ed7953\"],[0.7777777777777778,\"#fb9f3a\"],[0.8888888888888888,\"#fdca26\"],[1.0,\"#f0f921\"]]}],\"surface\":[{\"type\":\"surface\",\"colorbar\":{\"outlinewidth\":0,\"ticks\":\"\"},\"colorscale\":[[0.0,\"#0d0887\"],[0.1111111111111111,\"#46039f\"],[0.2222222222222222,\"#7201a8\"],[0.3333333333333333,\"#9c179e\"],[0.4444444444444444,\"#bd3786\"],[0.5555555555555556,\"#d8576b\"],[0.6666666666666666,\"#ed7953\"],[0.7777777777777778,\"#fb9f3a\"],[0.8888888888888888,\"#fdca26\"],[1.0,\"#f0f921\"]]}],\"mesh3d\":[{\"type\":\"mesh3d\",\"colorbar\":{\"outlinewidth\":0,\"ticks\":\"\"}}],\"scatter\":[{\"fillpattern\":{\"fillmode\":\"overlay\",\"size\":10,\"solidity\":0.2},\"type\":\"scatter\"}],\"parcoords\":[{\"type\":\"parcoords\",\"line\":{\"colorbar\":{\"outlinewidth\":0,\"ticks\":\"\"}}}],\"scatterpolargl\":[{\"type\":\"scatterpolargl\",\"marker\":{\"colorbar\":{\"outlinewidth\":0,\"ticks\":\"\"}}}],\"bar\":[{\"error_x\":{\"color\":\"#2a3f5f\"},\"error_y\":{\"color\":\"#2a3f5f\"},\"marker\":{\"line\":{\"color\":\"#E5ECF6\",\"width\":0.5},\"pattern\":{\"fillmode\":\"overlay\",\"size\":10,\"solidity\":0.2}},\"type\":\"bar\"}],\"scattergeo\":[{\"type\":\"scattergeo\",\"marker\":{\"colorbar\":{\"outlinewidth\":0,\"ticks\":\"\"}}}],\"scatterpolar\":[{\"type\":\"scatterpolar\",\"marker\":{\"colorbar\":{\"outlinewidth\":0,\"ticks\":\"\"}}}],\"histogram\":[{\"marker\":{\"pattern\":{\"fillmode\":\"overlay\",\"size\":10,\"solidity\":0.2}},\"type\":\"histogram\"}],\"scattergl\":[{\"type\":\"scattergl\",\"marker\":{\"colorbar\":{\"outlinewidth\":0,\"ticks\":\"\"}}}],\"scatter3d\":[{\"type\":\"scatter3d\",\"line\":{\"colorbar\":{\"outlinewidth\":0,\"ticks\":\"\"}},\"marker\":{\"colorbar\":{\"outlinewidth\":0,\"ticks\":\"\"}}}],\"scattermapbox\":[{\"type\":\"scattermapbox\",\"marker\":{\"colorbar\":{\"outlinewidth\":0,\"ticks\":\"\"}}}],\"scatterternary\":[{\"type\":\"scatterternary\",\"marker\":{\"colorbar\":{\"outlinewidth\":0,\"ticks\":\"\"}}}],\"scattercarpet\":[{\"type\":\"scattercarpet\",\"marker\":{\"colorbar\":{\"outlinewidth\":0,\"ticks\":\"\"}}}],\"carpet\":[{\"aaxis\":{\"endlinecolor\":\"#2a3f5f\",\"gridcolor\":\"white\",\"linecolor\":\"white\",\"minorgridcolor\":\"white\",\"startlinecolor\":\"#2a3f5f\"},\"baxis\":{\"endlinecolor\":\"#2a3f5f\",\"gridcolor\":\"white\",\"linecolor\":\"white\",\"minorgridcolor\":\"white\",\"startlinecolor\":\"#2a3f5f\"},\"type\":\"carpet\"}],\"table\":[{\"cells\":{\"fill\":{\"color\":\"#EBF0F8\"},\"line\":{\"color\":\"white\"}},\"header\":{\"fill\":{\"color\":\"#C8D4E3\"},\"line\":{\"color\":\"white\"}},\"type\":\"table\"}],\"barpolar\":[{\"marker\":{\"line\":{\"color\":\"#E5ECF6\",\"width\":0.5},\"pattern\":{\"fillmode\":\"overlay\",\"size\":10,\"solidity\":0.2}},\"type\":\"barpolar\"}],\"pie\":[{\"automargin\":true,\"type\":\"pie\"}]},\"layout\":{\"autotypenumbers\":\"strict\",\"colorway\":[\"#636efa\",\"#EF553B\",\"#00cc96\",\"#ab63fa\",\"#FFA15A\",\"#19d3f3\",\"#FF6692\",\"#B6E880\",\"#FF97FF\",\"#FECB52\"],\"font\":{\"color\":\"#2a3f5f\"},\"hovermode\":\"closest\",\"hoverlabel\":{\"align\":\"left\"},\"paper_bgcolor\":\"white\",\"plot_bgcolor\":\"#E5ECF6\",\"polar\":{\"bgcolor\":\"#E5ECF6\",\"angularaxis\":{\"gridcolor\":\"white\",\"linecolor\":\"white\",\"ticks\":\"\"},\"radialaxis\":{\"gridcolor\":\"white\",\"linecolor\":\"white\",\"ticks\":\"\"}},\"ternary\":{\"bgcolor\":\"#E5ECF6\",\"aaxis\":{\"gridcolor\":\"white\",\"linecolor\":\"white\",\"ticks\":\"\"},\"baxis\":{\"gridcolor\":\"white\",\"linecolor\":\"white\",\"ticks\":\"\"},\"caxis\":{\"gridcolor\":\"white\",\"linecolor\":\"white\",\"ticks\":\"\"}},\"coloraxis\":{\"colorbar\":{\"outlinewidth\":0,\"ticks\":\"\"}},\"colorscale\":{\"sequential\":[[0.0,\"#0d0887\"],[0.1111111111111111,\"#46039f\"],[0.2222222222222222,\"#7201a8\"],[0.3333333333333333,\"#9c179e\"],[0.4444444444444444,\"#bd3786\"],[0.5555555555555556,\"#d8576b\"],[0.6666666666666666,\"#ed7953\"],[0.7777777777777778,\"#fb9f3a\"],[0.8888888888888888,\"#fdca26\"],[1.0,\"#f0f921\"]],\"sequentialminus\":[[0.0,\"#0d0887\"],[0.1111111111111111,\"#46039f\"],[0.2222222222222222,\"#7201a8\"],[0.3333333333333333,\"#9c179e\"],[0.4444444444444444,\"#bd3786\"],[0.5555555555555556,\"#d8576b\"],[0.6666666666666666,\"#ed7953\"],[0.7777777777777778,\"#fb9f3a\"],[0.8888888888888888,\"#fdca26\"],[1.0,\"#f0f921\"]],\"diverging\":[[0,\"#8e0152\"],[0.1,\"#c51b7d\"],[0.2,\"#de77ae\"],[0.3,\"#f1b6da\"],[0.4,\"#fde0ef\"],[0.5,\"#f7f7f7\"],[0.6,\"#e6f5d0\"],[0.7,\"#b8e186\"],[0.8,\"#7fbc41\"],[0.9,\"#4d9221\"],[1,\"#276419\"]]},\"xaxis\":{\"gridcolor\":\"white\",\"linecolor\":\"white\",\"ticks\":\"\",\"title\":{\"standoff\":15},\"zerolinecolor\":\"white\",\"automargin\":true,\"zerolinewidth\":2},\"yaxis\":{\"gridcolor\":\"white\",\"linecolor\":\"white\",\"ticks\":\"\",\"title\":{\"standoff\":15},\"zerolinecolor\":\"white\",\"automargin\":true,\"zerolinewidth\":2},\"scene\":{\"xaxis\":{\"backgroundcolor\":\"#E5ECF6\",\"gridcolor\":\"white\",\"linecolor\":\"white\",\"showbackground\":true,\"ticks\":\"\",\"zerolinecolor\":\"white\",\"gridwidth\":2},\"yaxis\":{\"backgroundcolor\":\"#E5ECF6\",\"gridcolor\":\"white\",\"linecolor\":\"white\",\"showbackground\":true,\"ticks\":\"\",\"zerolinecolor\":\"white\",\"gridwidth\":2},\"zaxis\":{\"backgroundcolor\":\"#E5ECF6\",\"gridcolor\":\"white\",\"linecolor\":\"white\",\"showbackground\":true,\"ticks\":\"\",\"zerolinecolor\":\"white\",\"gridwidth\":2}},\"shapedefaults\":{\"line\":{\"color\":\"#2a3f5f\"}},\"annotationdefaults\":{\"arrowcolor\":\"#2a3f5f\",\"arrowhead\":0,\"arrowwidth\":1},\"geo\":{\"bgcolor\":\"white\",\"landcolor\":\"#E5ECF6\",\"subunitcolor\":\"white\",\"showland\":true,\"showlakes\":true,\"lakecolor\":\"white\"},\"title\":{\"x\":0.05},\"mapbox\":{\"style\":\"light\"}}},\"title\":{\"text\":\"Drug Claims by Source\"},\"xaxis\":{\"tickangle\":-45},\"yaxis\":{\"title\":{\"text\":\"Count (log scale)\"},\"type\":\"log\"}},                        {\"responsive\": true}                    ).then(function(){\n",
       "                            \n",
       "var gd = document.getElementById('4431699a-8360-4005-9918-e1f85bef650a');\n",
       "var x = new MutationObserver(function (mutations, observer) {{\n",
       "        var display = window.getComputedStyle(gd).display;\n",
       "        if (!display || display === 'none') {{\n",
       "            console.log([gd, 'removed!']);\n",
       "            Plotly.purge(gd);\n",
       "            observer.disconnect();\n",
       "        }}\n",
       "}});\n",
       "\n",
       "// Listen for the removal of the full notebook cells\n",
       "var notebookContainer = gd.closest('#notebook-container');\n",
       "if (notebookContainer) {{\n",
       "    x.observe(notebookContainer, {childList: true});\n",
       "}}\n",
       "\n",
       "// Listen for the clearing of the current output cell\n",
       "var outputEl = gd.closest('.output');\n",
       "if (outputEl) {{\n",
       "    x.observe(outputEl, {childList: true});\n",
       "}}\n",
       "\n",
       "                        })                };                });            </script>        </div>"
      ]
     },
     "metadata": {},
     "output_type": "display_data"
    }
   ],
   "source": [
    "def make_drug_base():\n",
    "    new_sources = drug_claims[drug_claims[\"source type\"] == \"New\"]\n",
    "    existing_sources = drug_claims[drug_claims[\"source type\"] == \"Existing\"]\n",
    "    updated_sources = drug_claims[drug_claims[\"source type\"] == \"Updated\"]\n",
    "    fig = go.Figure()\n",
    "    fig.update_layout(title=\"Drug Claims by Source\")\n",
    "    fig.add_trace(go.Bar(\n",
    "        x=new_sources[\"display names\"],\n",
    "        y=new_sources[\"v5\"],\n",
    "        name=\"New sources\",\n",
    "        marker_color=new_sources[\"source colors\"]\n",
    "    ))\n",
    "    fig.add_trace(go.Bar(\n",
    "        x=updated_sources[\"display names\"],\n",
    "        y=updated_sources[\"v5\"],\n",
    "        name=\"Updated sources\",\n",
    "        marker_color=updated_sources[\"source colors\"]\n",
    "    ))\n",
    "    fig.add_trace(go.Bar(\n",
    "        x=existing_sources[\"display names\"],\n",
    "        y=existing_sources[\"v5\"],\n",
    "        name=\"Existing sources\",\n",
    "        marker_color=existing_sources[\"source colors\"]\n",
    "    ))\n",
    "    fig.update_layout(xaxis_tickangle=-45, yaxis_title=\"Count (log scale)\")\n",
    "    fig.update_yaxes(type=\"log\")\n",
    "    fig.write_image(\"drugs.png\")\n",
    "    return fig\n",
    "    \n",
    "make_drug_base()\n"
   ]
  },
  {
   "cell_type": "code",
   "execution_count": null,
   "id": "7c449f06-162b-4d6d-ba80-582efe8cd5f5",
   "metadata": {},
   "outputs": [],
   "source": []
  }
 ],
 "metadata": {
  "kernelspec": {
   "display_name": "dgidb-figure",
   "language": "python",
   "name": "dgidb-figure"
  },
  "language_info": {
   "codemirror_mode": {
    "name": "ipython",
    "version": 3
   },
   "file_extension": ".py",
   "mimetype": "text/x-python",
   "name": "python",
   "nbconvert_exporter": "python",
   "pygments_lexer": "ipython3",
   "version": "3.11.0"
  }
 },
 "nbformat": 4,
 "nbformat_minor": 5
}
